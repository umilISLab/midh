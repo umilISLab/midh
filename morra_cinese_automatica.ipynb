{
 "cells": [
  {
   "cell_type": "markdown",
   "id": "0bada076",
   "metadata": {},
   "source": [
    "## Morra cinese fra macchine"
   ]
  },
  {
   "cell_type": "code",
   "execution_count": 1,
   "id": "ecb8499e",
   "metadata": {},
   "outputs": [],
   "source": [
    "from game_utils import user_input, UniformPlayer"
   ]
  },
  {
   "cell_type": "code",
   "execution_count": 5,
   "id": "fe1b60e0",
   "metadata": {},
   "outputs": [
    {
     "name": "stdout",
     "output_type": "stream",
     "text": [
      "[-1, 1, 1, 0, 0, 0] 2\n",
      "[1, -1, -1, 0, 0, 0] -2\n"
     ]
    }
   ],
   "source": [
    "morra = list({'C', 'S', 'F'})\n",
    "\n",
    "player1 = UniformPlayer(valid_options=morra)\n",
    "player2 = UniformPlayer(valid_options=morra)\n",
    "\n",
    "outcomes = {\n",
    "    \"S\": {\"S\": \"X\", \"C\": \"2\", \"F\": \"1\"},\n",
    "    \"C\": {\"S\": \"1\", \"C\": \"X\", \"F\": \"2\"},\n",
    "    \"F\": {\"S\": \"2\", \"C\": \"1\", \"F\": \"X\"}\n",
    "}\n",
    "\n",
    "for iteration in range(10000):\n",
    "    p1 = player1.play()\n",
    "    p2 = player2.play()\n",
    "    result = outcomes[p1][p2]\n",
    "    if result == \"1\":\n",
    "        player1.store_result(1)\n",
    "        player2.store_result(-1)\n",
    "    elif result == \"2\":\n",
    "        player1.store_result(-1)\n",
    "        player2.store_result(1)\n",
    "    else:\n",
    "        player1.store_result(0)\n",
    "        player2.store_result(0)\n",
    "print(player1.record_track[-6:], sum(player1.record_track))\n",
    "print(player2.record_track[-6:], sum(player2.record_track))"
   ]
  },
  {
   "cell_type": "code",
   "execution_count": null,
   "id": "e8bd6c4e",
   "metadata": {},
   "outputs": [],
   "source": []
  },
  {
   "cell_type": "code",
   "execution_count": null,
   "id": "4f1b0277",
   "metadata": {},
   "outputs": [],
   "source": []
  }
 ],
 "metadata": {
  "kernelspec": {
   "display_name": "nlp",
   "language": "python",
   "name": "python3"
  },
  "language_info": {
   "codemirror_mode": {
    "name": "ipython",
    "version": 3
   },
   "file_extension": ".py",
   "mimetype": "text/x-python",
   "name": "python",
   "nbconvert_exporter": "python",
   "pygments_lexer": "ipython3",
   "version": "3.10.4"
  }
 },
 "nbformat": 4,
 "nbformat_minor": 5
}
