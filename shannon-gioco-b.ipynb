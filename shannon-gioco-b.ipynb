{
 "cells": [
  {
   "cell_type": "markdown",
   "id": "a77327e4",
   "metadata": {},
   "source": [
    "\n",
    "# 🎰 Gioco 5 — Scommessa dell'informazione (interattivo)\n",
    "**Obiettivo didattico**: giocare prima, poi spiegare **entropia**, **cross-entropy / KL divergence** e **information gain** attraverso una scommessa su una sorgente di simboli.\n",
    "  \n",
    "Meccanica del gioco (fair odds):\n",
    "- La sorgente emette un simbolo in un alfabeto di dimensione **m** con probabilità $p = (p_1,\\dots,p_m)$.\n",
    "- Prima dell'estrazione, il giocatore distribuisce il capitale tra i simboli: $q = (q_1,\\dots,q_m)$, con $\\sum q_i = 1$.\n",
    "- Se esce il simbolo $i$, il capitale viene moltiplicato per **$q_i/p_i$** (quote “eque”: pagamento atteso neutro).\n",
    "\n",
    "**Risultato chiave (da discutere dopo aver giocato)**: la strategia ottimale per la crescita logaritmica è **scommettere proporzionalmente a $p$**.  \n",
    "La crescita log media è $\\mathbb{E}[\\log(W_{t+1}/W_t)] = H(p) - H(p,q) = -D_{KL}(p\\Vert q) \\le 0$.  \n",
    "Quindi con quote eque, il massimo è 0 (nessuna crescita): ottieni 0 scegliendo **$q=p$**; peggio per scelte non ottimali.\n"
   ]
  },
  {
   "cell_type": "markdown",
   "id": "71e80daa",
   "metadata": {},
   "source": [
    "\n",
    "## 0) Requisiti (esegui una volta se necessario)\n"
   ]
  },
  {
   "cell_type": "code",
   "execution_count": null,
   "id": "8ef92b3c",
   "metadata": {},
   "outputs": [],
   "source": [
    "\n",
    "# Se mancano i pacchetti, scommentare ed eseguire:\n",
    "# !pip install ipywidgets numpy pandas matplotlib\n",
    "# !jupyter nbextension enable --py widgetsnbextension\n"
   ]
  },
  {
   "cell_type": "markdown",
   "id": "94d93360",
   "metadata": {},
   "source": [
    "## 1) Import e setup"
   ]
  },
  {
   "cell_type": "code",
   "execution_count": 1,
   "id": "5759f4e6",
   "metadata": {},
   "outputs": [],
   "source": [
    "\n",
    "import numpy as np\n",
    "import pandas as pd\n",
    "import ipywidgets as widgets\n",
    "from IPython.display import display, clear_output\n",
    "import math\n",
    "import random\n",
    "import matplotlib.pyplot as plt\n",
    "\n",
    "np.set_printoptions(precision=4, suppress=True)\n",
    "\n",
    "SESSION_LOG = []  # per salvare risultati dei round manuali\n",
    "CURRENT_STATE = {}  # stato corrente del gioco\n"
   ]
  },
  {
   "cell_type": "markdown",
   "id": "e3addc59",
   "metadata": {},
   "source": [
    "\n",
    "## 2) Funzioni di utilità\n"
   ]
  },
  {
   "cell_type": "code",
   "execution_count": 2,
   "id": "ca5dc7c4",
   "metadata": {},
   "outputs": [
    {
     "data": {
      "text/plain": [
       "{'m': 4, 'p': array([0.4, 0.3, 0.2, 0.1]), 'W': 1.0, 't': 0}"
      ]
     },
     "execution_count": 2,
     "metadata": {},
     "output_type": "execute_result"
    }
   ],
   "source": [
    "\n",
    "def normalize(x):\n",
    "    x = np.array(x, dtype=float)\n",
    "    s = x.sum()\n",
    "    if s <= 0:\n",
    "        # default uniform if zero\n",
    "        return np.ones_like(x) / len(x)\n",
    "    return x / s\n",
    "\n",
    "def sample_symbol(p):\n",
    "    return np.random.choice(len(p), p=p)\n",
    "\n",
    "def entropy_bits(p):\n",
    "    p = np.array(p, dtype=float)\n",
    "    p = p[p>0]\n",
    "    return -np.sum(p * np.log2(p))\n",
    "\n",
    "def cross_entropy_bits(p, q):\n",
    "    p = np.array(p, dtype=float)\n",
    "    q = np.array(q, dtype=float)\n",
    "    mask = (p>0) & (q>0)\n",
    "    return -np.sum(p[mask] * np.log2(q[mask]))\n",
    "\n",
    "def kl_bits(p, q):\n",
    "    # D_KL(p||q) in bit\n",
    "    p = np.array(p, dtype=float)\n",
    "    q = np.array(q, dtype=float)\n",
    "    mask = (p>0) & (q>0)\n",
    "    return np.sum(p[mask] * (np.log2(p[mask]) - np.log2(q[mask])))\n",
    "\n",
    "def wealth_update(W, p, q, outcome):\n",
    "    # W' = W * q_i / p_i\n",
    "    return W * (q[outcome] / p[outcome])\n",
    "\n",
    "def dirichlet_random(m):\n",
    "    # random strategy over simplex (uniform Dirichlet)\n",
    "    x = np.random.gamma(1.0, 1.0, size=m)\n",
    "    return x / x.sum()\n",
    "\n",
    "def set_state(m=4, p=None, seed=None):\n",
    "    if seed is not None:\n",
    "        np.random.seed(seed)\n",
    "        random.seed(seed)\n",
    "    if p is None:\n",
    "        # default skewed distribution\n",
    "        raw = np.linspace(1, m, m)\n",
    "        raw = raw[::-1]  # decrescente\n",
    "        p = normalize(raw)\n",
    "    CURRENT_STATE.clear()\n",
    "    CURRENT_STATE.update(dict(\n",
    "        m=m,\n",
    "        p=np.array(p, dtype=float),\n",
    "        W=1.0,\n",
    "        t=0\n",
    "    ))\n",
    "    return CURRENT_STATE\n",
    "\n",
    "def reset_session_log():\n",
    "    global SESSION_LOG\n",
    "    SESSION_LOG = []\n",
    "\n",
    "# inizializza\n",
    "set_state()\n"
   ]
  },
  {
   "cell_type": "markdown",
   "id": "2c6c1fac",
   "metadata": {},
   "source": [
    "\n",
    "## 3) **Gioco manuale** (prima si gioca!)\n",
    "1. Scegli la dimensione dell'alfabeto **m** e imposta le probabilità **p** (usa i cursori o i preset).\n",
    "2. Premi **Nuova sessione**.\n",
    "3. Scegli come distribuire la scommessa **q** (usa i cursori, poi *Normalizza q*).\n",
    "4. Premi **Estrai & Valuta** (l'estrazione avviene dopo aver scelto q).  \n",
    "5. Ripeti i round e registra i risultati.\n"
   ]
  },
  {
   "cell_type": "code",
   "execution_count": null,
   "id": "46ccd073",
   "metadata": {},
   "outputs": [
    {
     "data": {
      "application/vnd.jupyter.widget-view+json": {
       "model_id": "c7eb8f0aa01f4425ad9a41b4322749b6",
       "version_major": 2,
       "version_minor": 0
      },
      "text/plain": [
       "HBox(children=(BoundedIntText(value=4, description='m:', max=12, min=2), IntText(value=0, description='Seed:')…"
      ]
     },
     "metadata": {},
     "output_type": "display_data"
    },
    {
     "data": {
      "application/vnd.jupyter.widget-view+json": {
       "model_id": "499508aae79f409a8af4826854bb97f2",
       "version_major": 2,
       "version_minor": 0
      },
      "text/plain": [
       "HTML(value='<h4>Probabilità p</h4>')"
      ]
     },
     "metadata": {},
     "output_type": "display_data"
    },
    {
     "data": {
      "application/vnd.jupyter.widget-view+json": {
       "model_id": "ccb8c85bfc2347b4ba8c65a2a62b9e9f",
       "version_major": 2,
       "version_minor": 0
      },
      "text/plain": [
       "Output()"
      ]
     },
     "metadata": {},
     "output_type": "display_data"
    },
    {
     "data": {
      "application/vnd.jupyter.widget-view+json": {
       "model_id": "2464f00561654b469f7c315609bf654b",
       "version_major": 2,
       "version_minor": 0
      },
      "text/plain": [
       "HTML(value='<h4>Distribuzione scommessa q</h4>')"
      ]
     },
     "metadata": {},
     "output_type": "display_data"
    },
    {
     "data": {
      "application/vnd.jupyter.widget-view+json": {
       "model_id": "1e4e841100a142cda069efd4c3e3d818",
       "version_major": 2,
       "version_minor": 0
      },
      "text/plain": [
       "Output()"
      ]
     },
     "metadata": {},
     "output_type": "display_data"
    },
    {
     "data": {
      "application/vnd.jupyter.widget-view+json": {
       "model_id": "d820c954322841b2ac4a9662f96b4620",
       "version_major": 2,
       "version_minor": 0
      },
      "text/plain": [
       "HBox(children=(Button(button_style='success', description='🎰 Estrai & valuta', style=ButtonStyle()), Button(bu…"
      ]
     },
     "metadata": {},
     "output_type": "display_data"
    },
    {
     "data": {
      "application/vnd.jupyter.widget-view+json": {
       "model_id": "0dae090f037540598ea78e743822870e",
       "version_major": 2,
       "version_minor": 0
      },
      "text/plain": [
       "HTML(value='<hr>')"
      ]
     },
     "metadata": {},
     "output_type": "display_data"
    },
    {
     "data": {
      "application/vnd.jupyter.widget-view+json": {
       "model_id": "008c954ddb02492e8e866e7acd3b5f66",
       "version_major": 2,
       "version_minor": 0
      },
      "text/plain": [
       "HTML(value='<h4>Stato & Log</h4>')"
      ]
     },
     "metadata": {},
     "output_type": "display_data"
    },
    {
     "data": {
      "application/vnd.jupyter.widget-view+json": {
       "model_id": "329fa756b9e84111bd250a7643ee0a91",
       "version_major": 2,
       "version_minor": 0
      },
      "text/plain": [
       "Output()"
      ]
     },
     "metadata": {},
     "output_type": "display_data"
    },
    {
     "data": {
      "application/vnd.jupyter.widget-view+json": {
       "model_id": "d216b5b57c4a4c8c9bbf7d7fe180aec2",
       "version_major": 2,
       "version_minor": 0
      },
      "text/plain": [
       "Output()"
      ]
     },
     "metadata": {},
     "output_type": "display_data"
    }
   ],
   "source": [
    "\n",
    "# --- Widgets setup ---\n",
    "m_widget = widgets.BoundedIntText(value=4, min=2, max=12, step=1, description=\"m:\")\n",
    "seed_widget = widgets.IntText(value=0, description=\"Seed:\")\n",
    "\n",
    "# Probability sliders p\n",
    "def create_p_sliders(m):\n",
    "    sliders = []\n",
    "    for i in range(m):\n",
    "        s = widgets.FloatSlider(value=max(0.1, (m-i)), min=0.0, max=max(1.0, m), step=0.01,\n",
    "                                description=f\"p{i+1}*\", readout_format=\".2f\", continuous_update=False)\n",
    "        sliders.append(s)\n",
    "    return sliders\n",
    "\n",
    "p_sliders = create_p_sliders(m_widget.value)\n",
    "\n",
    "normalize_p_btn = widgets.Button(description=\"↔️ Normalizza p\", button_style=\"\")\n",
    "uniform_p_btn = widgets.Button(description=\"🎲 Uniforme p\", button_style=\"\")\n",
    "skew_p_btn = widgets.Button(description=\"📈 Skew p\", button_style=\"\")\n",
    "new_session_btn = widgets.Button(description=\"🚀 Nuova sessione\", button_style=\"primary\")\n",
    "\n",
    "# Betting sliders q\n",
    "def create_q_sliders(m):\n",
    "    sliders = []\n",
    "    for i in range(m):\n",
    "        s = widgets.FloatSlider(value=1.0, min=0.0, max=1.0, step=0.01,\n",
    "                                description=f\"q{i+1}\", readout_format=\".2f\", continuous_update=False)\n",
    "        sliders.append(s)\n",
    "    return sliders\n",
    "\n",
    "q_sliders = create_q_sliders(m_widget.value)\n",
    "normalize_q_btn = widgets.Button(description=\"↔️ Normalizza q\", button_style=\"\")\n",
    "uniform_q_btn = widgets.Button(description=\"🎯 Uniforme q\", button_style=\"\")\n",
    "\n",
    "# Action buttons\n",
    "play_btn = widgets.Button(description=\"🎰 Estrai & valuta\", button_style=\"success\")\n",
    "record_btn = widgets.Button(description=\"💾 Registra round\", button_style=\"warning\")\n",
    "reset_log_btn = widgets.Button(description=\"🧹 Azzera log\", button_style=\"danger\")\n",
    "export_btn = widgets.Button(description=\"⬇️ Esporta CSV\", button_style=\"\")\n",
    "\n",
    "# Outputs\n",
    "status_out = widgets.Output()\n",
    "p_out = widgets.Output()\n",
    "q_out = widgets.Output()\n",
    "log_out = widgets.Output()\n",
    "\n",
    "def refresh_status():\n",
    "    with status_out:\n",
    "        clear_output()\n",
    "        p = CURRENT_STATE[\"p\"]\n",
    "        H = entropy_bits(p)\n",
    "        display(widgets.HTML(f\"\"\"<h4>Stato: m={CURRENT_STATE['m']} • Capitale W={CURRENT_STATE['W']:.4f} • Round t={CURRENT_STATE['t']}</h4>\n",
    "        <div>Probabilità correnti p: {np.round(p,4)} (H(p) = {H:.3f} bit) — <i>non spiegarla prima del gioco</i></div>\"\"\"))\n",
    "\n",
    "def rebuild_p_sliders(*args):\n",
    "    global p_sliders, q_sliders\n",
    "    m = m_widget.value\n",
    "    p_sliders = create_p_sliders(m)\n",
    "    q_sliders = create_q_sliders(m)\n",
    "    with p_out:\n",
    "        clear_output()\n",
    "        display(widgets.VBox(p_sliders + [widgets.HBox([normalize_p_btn, uniform_p_btn, skew_p_btn])]))\n",
    "    with q_out:\n",
    "        clear_output()\n",
    "        display(widgets.VBox(q_sliders + [widgets.HBox([normalize_q_btn, uniform_q_btn])]))\n",
    "    refresh_status()\n",
    "\n",
    "def get_p_from_sliders():\n",
    "    vals = [s.value for s in p_sliders]\n",
    "    return normalize(vals)\n",
    "\n",
    "def get_q_from_sliders():\n",
    "    vals = [s.value for s in q_sliders]\n",
    "    return normalize(vals)\n",
    "\n",
    "def on_normalize_p(_):\n",
    "    vec = get_p_from_sliders()  # already normalized\n",
    "    for s, v in zip(p_sliders, vec):\n",
    "        s.value = float(v)\n",
    "\n",
    "def on_uniform_p(_):\n",
    "    vec = np.ones(m_widget.value) / m_widget.value\n",
    "    for s, v in zip(p_sliders, vec):\n",
    "        s.value = float(v)\n",
    "\n",
    "def on_skew_p(_):\n",
    "    m = m_widget.value\n",
    "    raw = np.linspace(1, m, m)[::-1]\n",
    "    vec = normalize(raw)\n",
    "    for s, v in zip(p_sliders, vec):\n",
    "        s.value = float(v)\n",
    "\n",
    "def on_normalize_q(_):\n",
    "    vec = get_q_from_sliders()\n",
    "    for s, v in zip(q_sliders, vec):\n",
    "        s.value = float(v)\n",
    "\n",
    "def on_uniform_q(_):\n",
    "    vec = np.ones(m_widget.value) / m_widget.value\n",
    "    for s, v in zip(q_sliders, vec):\n",
    "        s.value = float(v)\n",
    "\n",
    "def on_new_session(_):\n",
    "    m = m_widget.value\n",
    "    p = get_p_from_sliders()\n",
    "    set_state(m=m, p=p, seed=seed_widget.value or None)\n",
    "    refresh_status()\n",
    "    with log_out:\n",
    "        clear_output()\n",
    "        display(widgets.HTML(\"<i>Nuova sessione pronta. Gioca alcuni round e poi registra/esporta i risultati.</i>\"))\n",
    "\n",
    "def on_play(_):\n",
    "    # ensure normalized q and p\n",
    "    p = get_p_from_sliders()\n",
    "    q = get_q_from_sliders()\n",
    "    for s, v in zip(p_sliders, p):\n",
    "        s.value = float(v)\n",
    "    for s, v in zip(q_sliders, q):\n",
    "        s.value = float(v)\n",
    "\n",
    "    i = sample_symbol(p)  # outcome\n",
    "    W_prev = CURRENT_STATE[\"W\"]\n",
    "    W_next = wealth_update(W_prev, p, q, i)\n",
    "    CURRENT_STATE[\"W\"] = float(W_next)\n",
    "    CURRENT_STATE[\"t\"] += 1\n",
    "\n",
    "    # log (not yet in SESSION_LOG until user clicks record)\n",
    "    with log_out:\n",
    "        display(widgets.HTML(f\"Round {CURRENT_STATE['t']}: esce simbolo <b>{i+1}</b>. \"\n",
    "                             f\"Moltiplicatore = q/p = {q[i]:.4f}/{p[i]:.4f} = {(q[i]/p[i]):.4f}. \"\n",
    "                             f\"Capitale: {W_prev:.4f} → {W_next:.4f}.\"))\n",
    "    refresh_status()\n",
    "\n",
    "def on_record(_):\n",
    "    # Append a snapshot of current round in session log\n",
    "    entry = dict(\n",
    "        t=CURRENT_STATE[\"t\"],\n",
    "        m=CURRENT_STATE[\"m\"],\n",
    "        W=CURRENT_STATE[\"W\"],\n",
    "        p=list(map(float, get_p_from_sliders())),\n",
    "        q=list(map(float, get_q_from_sliders()))\n",
    "    )\n",
    "    SESSION_LOG.append(entry)\n",
    "    with log_out:\n",
    "        display(widgets.HTML(\"<i>Round registrato.</i>\"))\n",
    "\n",
    "def on_export(_):\n",
    "    if not SESSION_LOG:\n",
    "        with log_out:\n",
    "            display(widgets.HTML(\"Nessun round registrato.\"))\n",
    "        return\n",
    "    df = pd.DataFrame(SESSION_LOG)\n",
    "    path = \"/mnt/data/scommessa_sessione.csv\"\n",
    "    df.to_csv(path, index=False)\n",
    "    with log_out:\n",
    "        display(widgets.HTML(f\"Esportato in: <code>{path}</code> — usa il link di download dell'assistente se disponibile.\"))\n",
    "\n",
    "def on_reset_log(_):\n",
    "    reset_session_log()\n",
    "    with log_out:\n",
    "        clear_output()\n",
    "        display(widgets.HTML(\"Log azzerato.\"))\n",
    "\n",
    "# Bind\n",
    "m_widget.observe(lambda ch: rebuild_p_sliders(), names='value')\n",
    "normalize_p_btn.on_click(on_normalize_p)\n",
    "uniform_p_btn.on_click(on_uniform_p)\n",
    "skew_p_btn.on_click(on_skew_p)\n",
    "\n",
    "normalize_q_btn.on_click(on_normalize_q)\n",
    "uniform_q_btn.on_click(on_uniform_q)\n",
    "\n",
    "new_session_btn.on_click(on_new_session)\n",
    "play_btn.on_click(on_play)\n",
    "record_btn.on_click(on_record)\n",
    "export_btn.on_click(on_export)\n",
    "reset_log_btn.on_click(on_reset_log)\n",
    "\n",
    "# Render UI\n",
    "rebuild_p_sliders()\n",
    "display(widgets.HBox([m_widget, seed_widget, new_session_btn]))\n",
    "display(widgets.HTML(\"<h4>Probabilità p</h4>\")); display(p_out)\n",
    "display(widgets.HTML(\"<h4>Distribuzione scommessa q</h4>\")); display(q_out)\n",
    "display(widgets.HBox([play_btn, record_btn, export_btn, reset_log_btn]))\n",
    "display(widgets.HTML(\"<hr>\"))\n",
    "display(widgets.HTML(\"<h4>Stato & Log</h4>\")); display(status_out); display(log_out)\n"
   ]
  },
  {
   "cell_type": "markdown",
   "id": "46068285",
   "metadata": {},
   "source": [
    "\n",
    "## 4) **Dopo il gioco**: entropia, cross-entropy e information gain\n",
    "Esegui questa sezione **solo dopo** aver giocato alcuni round.\n"
   ]
  },
  {
   "cell_type": "code",
   "execution_count": 4,
   "id": "a61d3882",
   "metadata": {},
   "outputs": [
    {
     "name": "stdout",
     "output_type": "stream",
     "text": [
      "H(p) = 1.8464 bit\n",
      "H(p,q) = 1.8464 bit  (cross-entropy)\n",
      "D_KL(p||q) = -0.0000 bit\n",
      "\n",
      "Interpretazione: con quote eque, l'attesa di crescita log media = H(p) - H(p,q) = -D_KL(p||q) ≤ 0.\n"
     ]
    }
   ],
   "source": [
    "\n",
    "p = get_p_from_sliders()\n",
    "q = get_q_from_sliders()\n",
    "\n",
    "H_p = entropy_bits(p)\n",
    "H_pq = cross_entropy_bits(p, q)\n",
    "D_pq = kl_bits(p, q)\n",
    "\n",
    "print(f\"H(p) = {H_p:.4f} bit\")\n",
    "print(f\"H(p,q) = {H_pq:.4f} bit  (cross-entropy)\")\n",
    "print(f\"D_KL(p||q) = {D_pq:.4f} bit\")\n",
    "print(\"\\nInterpretazione: con quote eque, l'attesa di crescita log media = H(p) - H(p,q) = -D_KL(p||q) ≤ 0.\")\n"
   ]
  },
  {
   "cell_type": "markdown",
   "id": "d517c8e1",
   "metadata": {},
   "source": [
    "\n",
    "## 5) Duello tra agenti automatici\n",
    "Confrontiamo due agenti su T round:\n",
    "- **Agente Ottimo**: scommette \\(q=p\\) (proporzionale alle probabilità vere).\n",
    "- **Agente Casuale**: ogni round campiona \\(q\\) da una **Dirichlet uniforme** (casuale sul semplice).\n",
    "\n",
    "Mostriamo l’andamento del **log-capitale** e il differenziale di performance. Con quote eque ci aspettiamo:\n",
    "- Ottimo: crescita log attesa **0**.\n",
    "- Casuale: crescita log attesa **negativa**, pari a **\\(-D_{KL}(p\\Vert \\text{Uniforme})\\)** in media (se usa uniforme fisso; con Dirichlet la media è simile ma variabile per round).\n"
   ]
  },
  {
   "cell_type": "code",
   "execution_count": 5,
   "id": "2a1e65c9",
   "metadata": {},
   "outputs": [
    {
     "data": {
      "image/png": "[encoded data removed]",
      "text/plain": [
       "<Figure size 640x480 with 1 Axes>"
      ]
     },
     "metadata": {},
     "output_type": "display_data"
    },
    {
     "name": "stdout",
     "output_type": "stream",
     "text": [
      "Esito finale su 200 round:\n",
      "  Ottimo:   W=1.000000, logW=0.0000\n",
      "  Casuale:  W=0.000000, logW=-84.7482\n",
      "\n",
      "Differenza logW (Ottimo - Casuale): 84.7482\n"
     ]
    }
   ],
   "source": [
    "\n",
    "# Parametri simulazione\n",
    "T = 200\n",
    "p = get_p_from_sliders()\n",
    "m = len(p)\n",
    "\n",
    "W_opt = 1.0\n",
    "W_rand = 1.0\n",
    "logW_opt = [0.0]\n",
    "logW_rand = [0.0]\n",
    "\n",
    "for t in range(1, T+1):\n",
    "    i = sample_symbol(p)\n",
    "    q_opt = p  # proporzionale\n",
    "    q_rand = dirichlet_random(m)  # casuale ogni round\n",
    "\n",
    "    W_opt = wealth_update(W_opt, p, q_opt, i)\n",
    "    W_rand = wealth_update(W_rand, p, q_rand, i)\n",
    "\n",
    "    logW_opt.append(math.log(W_opt))\n",
    "    logW_rand.append(math.log(W_rand))\n",
    "\n",
    "# Plot (un grafico per regola del tool)\n",
    "plt.figure()\n",
    "plt.plot(range(T+1), logW_opt, label=\"Log-capitale: Ottimo (q=p)\")\n",
    "plt.plot(range(T+1), logW_rand, label=\"Log-capitale: Casuale (Dirichlet)\")\n",
    "plt.xlabel(\"Round\")\n",
    "plt.ylabel(\"log(Capitale)\")\n",
    "plt.legend()\n",
    "plt.show()\n",
    "\n",
    "print(f\"Esito finale su {T} round:\")\n",
    "print(f\"  Ottimo:   W={W_opt:.6f}, logW={math.log(W_opt):.4f}\")\n",
    "print(f\"  Casuale:  W={W_rand:.6f}, logW={math.log(W_rand):.4f}\")\n",
    "print(\"\\nDifferenza logW (Ottimo - Casuale): {:.4f}\".format(math.log(W_opt) - math.log(W_rand)))\n"
   ]
  },
  {
   "cell_type": "markdown",
   "id": "1aec2a47",
   "metadata": {},
   "source": [
    "\n",
    "## 6) Tabella teorica (facoltativa)\n",
    "Calcolo di $H(p)$, $\\log_2 m$ e distanza dall'uniforme.\n"
   ]
  },
  {
   "cell_type": "code",
   "execution_count": 6,
   "id": "fddacd10",
   "metadata": {},
   "outputs": [
    {
     "data": {
      "text/html": [
       "<div>\n",
       "<style scoped>\n",
       "    .dataframe tbody tr th:only-of-type {\n",
       "        vertical-align: middle;\n",
       "    }\n",
       "\n",
       "    .dataframe tbody tr th {\n",
       "        vertical-align: top;\n",
       "    }\n",
       "\n",
       "    .dataframe thead th {\n",
       "        text-align: right;\n",
       "    }\n",
       "</style>\n",
       "<table border=\"1\" class=\"dataframe\">\n",
       "  <thead>\n",
       "    <tr style=\"text-align: right;\">\n",
       "      <th></th>\n",
       "      <th>i</th>\n",
       "      <th>p_i</th>\n",
       "      <th>log2(1/p_i)</th>\n",
       "    </tr>\n",
       "  </thead>\n",
       "  <tbody>\n",
       "    <tr>\n",
       "      <th>0</th>\n",
       "      <td>1</td>\n",
       "      <td>0.4</td>\n",
       "      <td>1.321928</td>\n",
       "    </tr>\n",
       "    <tr>\n",
       "      <th>1</th>\n",
       "      <td>2</td>\n",
       "      <td>0.3</td>\n",
       "      <td>1.736966</td>\n",
       "    </tr>\n",
       "    <tr>\n",
       "      <th>2</th>\n",
       "      <td>3</td>\n",
       "      <td>0.2</td>\n",
       "      <td>2.321928</td>\n",
       "    </tr>\n",
       "    <tr>\n",
       "      <th>3</th>\n",
       "      <td>4</td>\n",
       "      <td>0.1</td>\n",
       "      <td>3.321928</td>\n",
       "    </tr>\n",
       "  </tbody>\n",
       "</table>\n",
       "</div>"
      ],
      "text/plain": [
       "   i  p_i  log2(1/p_i)\n",
       "0  1  0.4     1.321928\n",
       "1  2  0.3     1.736966\n",
       "2  3  0.2     2.321928\n",
       "3  4  0.1     3.321928"
      ]
     },
     "metadata": {},
     "output_type": "display_data"
    },
    {
     "name": "stdout",
     "output_type": "stream",
     "text": [
      "H(p) = 1.8464 bit,  log2(m) = 2.0000 bit,  margine = log2(m) - H(p) = 0.1536 bit\n"
     ]
    }
   ],
   "source": [
    "\n",
    "p = get_p_from_sliders()\n",
    "m = len(p)\n",
    "df = pd.DataFrame({\n",
    "    \"i\": np.arange(1, m+1),\n",
    "    \"p_i\": p,\n",
    "    \"log2(1/p_i)\": np.log2(1.0/np.maximum(p, 1e-12)),  # informazione sorpresa per simbolo\n",
    "})\n",
    "display(df)\n",
    "print(f\"H(p) = {entropy_bits(p):.4f} bit,  log2(m) = {math.log2(m):.4f} bit,  margine = log2(m) - H(p) = {math.log2(m)-entropy_bits(p):.4f} bit\")\n"
   ]
  },
  {
   "cell_type": "code",
   "execution_count": null,
   "id": "60f7fc9d",
   "metadata": {},
   "outputs": [],
   "source": []
  }
 ],
 "metadata": {
  "kernelspec": {
   "display_name": "nlp",
   "language": "python",
   "name": "python3"
  },
  "language_info": {
   "codemirror_mode": {
    "name": "ipython",
    "version": 3
   },
   "file_extension": ".py",
   "mimetype": "text/x-python",
   "name": "python",
   "nbconvert_exporter": "python",
   "pygments_lexer": "ipython3",
   "version": "3.10.4"
  }
 },
 "nbformat": 4,
 "nbformat_minor": 5
}
