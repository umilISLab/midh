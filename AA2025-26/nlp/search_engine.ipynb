{
 "cells": [
  {
   "cell_type": "markdown",
   "id": "21ebd87b",
   "metadata": {},
   "source": [
    "## Motore di ricerca"
   ]
  },
  {
   "cell_type": "code",
   "execution_count": 23,
   "id": "ad9fa37e",
   "metadata": {},
   "outputs": [],
   "source": [
    "import pandas as pd\n",
    "import numpy as np\n",
    "import os\n",
    "from tqdm.notebook import tqdm"
   ]
  },
  {
   "cell_type": "code",
   "execution_count": 5,
   "id": "1b534006",
   "metadata": {},
   "outputs": [],
   "source": [
    "folder = \"/Users/Flint/Data/recipes/textit\"\n",
    "docids = []\n",
    "docs = []\n",
    "for filename in os.listdir(folder):\n",
    "    if filename.endswith('.txt'):\n",
    "        docid = filename.replace(\".txt\", \"\").split(\"_\")[1]\n",
    "        docids.append(int(docid))\n",
    "        with open(os.path.join(folder, filename), 'r') as infile:\n",
    "            text = infile.read()\n",
    "            docs.append(text)"
   ]
  },
  {
   "cell_type": "markdown",
   "id": "70c237e2",
   "metadata": {},
   "source": [
    "### 1. Tokenizzazione"
   ]
  },
  {
   "cell_type": "markdown",
   "id": "77c38fa1",
   "metadata": {},
   "source": [
    "#### Opzione 1: espressioni regolari"
   ]
  },
  {
   "cell_type": "code",
   "execution_count": 8,
   "id": "998fc770",
   "metadata": {},
   "outputs": [],
   "source": [
    "from nltk.tokenize import word_tokenize"
   ]
  },
  {
   "cell_type": "code",
   "execution_count": 11,
   "id": "c3016eec",
   "metadata": {},
   "outputs": [],
   "source": [
    "wt_docs = []\n",
    "for doc in docs:\n",
    "    tokens = word_tokenize(doc.lower(), language='italian')\n",
    "    wt_docs.append(tokens)"
   ]
  },
  {
   "cell_type": "markdown",
   "id": "7db5d31a",
   "metadata": {},
   "source": [
    "#### Opzione 2: tokenizzazione linguistica"
   ]
  },
  {
   "cell_type": "code",
   "execution_count": 12,
   "id": "0f78db82",
   "metadata": {},
   "outputs": [],
   "source": [
    "import spacy"
   ]
  },
  {
   "cell_type": "code",
   "execution_count": 13,
   "id": "66ac8d9e",
   "metadata": {},
   "outputs": [],
   "source": [
    "nlp = spacy.load('it_core_news_lg')"
   ]
  },
  {
   "cell_type": "code",
   "execution_count": 17,
   "id": "eea2b27d",
   "metadata": {},
   "outputs": [],
   "source": [
    "def spacy_tokenizer(text, skip=None):\n",
    "    tokens = []\n",
    "    for token in nlp(text.lower()):\n",
    "        if skip is not None and token.pos_ in skip:\n",
    "            pass \n",
    "        else:\n",
    "            tokens.append(token.lemma_)\n",
    "    return tokens"
   ]
  },
  {
   "cell_type": "code",
   "execution_count": 25,
   "id": "7f86361a",
   "metadata": {},
   "outputs": [
    {
     "data": {
      "application/vnd.jupyter.widget-view+json": {
       "model_id": "80758c25cdf74724a9214e8f5f234b37",
       "version_major": 2,
       "version_minor": 0
      },
      "text/plain": [
       "  0%|          | 0/5933 [00:00<?, ?it/s]"
      ]
     },
     "metadata": {},
     "output_type": "display_data"
    }
   ],
   "source": [
    "st_docs = []\n",
    "for doc in tqdm(docs):\n",
    "    tokens = spacy_tokenizer(doc.lower(), skip=['ADP', 'CONJ', 'SPACE', 'PUNCT', 'DET'])\n",
    "    st_docs.append(tokens)\n"
   ]
  },
  {
   "cell_type": "markdown",
   "id": "3eea6c05",
   "metadata": {},
   "source": [
    "### Indicizzazione"
   ]
  },
  {
   "cell_type": "code",
   "execution_count": 27,
   "id": "f5ee2fb1",
   "metadata": {},
   "outputs": [],
   "source": [
    "from collections import Counter"
   ]
  },
  {
   "cell_type": "code",
   "execution_count": 34,
   "id": "cb1bd0bd",
   "metadata": {},
   "outputs": [],
   "source": [
    "def indexing(tokenized_docs, index_ids):\n",
    "    l_index = []\n",
    "    for tokens in tokenized_docs:\n",
    "        bow = dict(Counter(tokens).most_common())\n",
    "        l_index.append(bow)\n",
    "    I = pd.DataFrame(l_index, index=index_ids).fillna(0).T\n",
    "    return I "
   ]
  },
  {
   "cell_type": "code",
   "execution_count": 35,
   "id": "243b09f4",
   "metadata": {},
   "outputs": [],
   "source": [
    "W = indexing(wt_docs, docids)\n",
    "S = indexing(st_docs, docids)"
   ]
  },
  {
   "cell_type": "code",
   "execution_count": 37,
   "id": "57c3ded7",
   "metadata": {},
   "outputs": [
    {
     "name": "stdout",
     "output_type": "stream",
     "text": [
      "tokenizzazione non normalizzata: 20753\n",
      "tokenizzazione normalizzata: 18058\n"
     ]
    }
   ],
   "source": [
    "print(f\"tokenizzazione non normalizzata: {W.shape[0]}\")\n",
    "print(f\"tokenizzazione normalizzata: {S.shape[0]}\")"
   ]
  },
  {
   "cell_type": "code",
   "execution_count": 38,
   "id": "35ef390d",
   "metadata": {},
   "outputs": [
    {
     "data": {
      "text/html": [
       "<div>\n",
       "<style scoped>\n",
       "    .dataframe tbody tr th:only-of-type {\n",
       "        vertical-align: middle;\n",
       "    }\n",
       "\n",
       "    .dataframe tbody tr th {\n",
       "        vertical-align: top;\n",
       "    }\n",
       "\n",
       "    .dataframe thead th {\n",
       "        text-align: right;\n",
       "    }\n",
       "</style>\n",
       "<table border=\"1\" class=\"dataframe\">\n",
       "  <thead>\n",
       "    <tr style=\"text-align: right;\">\n",
       "      <th></th>\n",
       "      <th>1994</th>\n",
       "      <th>2245</th>\n",
       "      <th>810</th>\n",
       "      <th>4634</th>\n",
       "      <th>4152</th>\n",
       "      <th>2523</th>\n",
       "      <th>4146</th>\n",
       "      <th>3629</th>\n",
       "      <th>2537</th>\n",
       "      <th>5258</th>\n",
       "      <th>...</th>\n",
       "      <th>5241</th>\n",
       "      <th>3630</th>\n",
       "      <th>1027</th>\n",
       "      <th>1033</th>\n",
       "      <th>5255</th>\n",
       "      <th>3624</th>\n",
       "      <th>3142</th>\n",
       "      <th>5533</th>\n",
       "      <th>809</th>\n",
       "      <th>1755</th>\n",
       "    </tr>\n",
       "  </thead>\n",
       "  <tbody>\n",
       "    <tr>\n",
       "      <th>e</th>\n",
       "      <td>9.0</td>\n",
       "      <td>1.0</td>\n",
       "      <td>11.0</td>\n",
       "      <td>6.0</td>\n",
       "      <td>9.0</td>\n",
       "      <td>2.0</td>\n",
       "      <td>5.0</td>\n",
       "      <td>3.0</td>\n",
       "      <td>8.0</td>\n",
       "      <td>3.0</td>\n",
       "      <td>...</td>\n",
       "      <td>7.0</td>\n",
       "      <td>20.0</td>\n",
       "      <td>14.0</td>\n",
       "      <td>7.0</td>\n",
       "      <td>7.0</td>\n",
       "      <td>12.0</td>\n",
       "      <td>1.0</td>\n",
       "      <td>4.0</td>\n",
       "      <td>10.0</td>\n",
       "      <td>6.0</td>\n",
       "    </tr>\n",
       "    <tr>\n",
       "      <th>g</th>\n",
       "      <td>6.0</td>\n",
       "      <td>6.0</td>\n",
       "      <td>10.0</td>\n",
       "      <td>4.0</td>\n",
       "      <td>6.0</td>\n",
       "      <td>0.0</td>\n",
       "      <td>8.0</td>\n",
       "      <td>2.0</td>\n",
       "      <td>8.0</td>\n",
       "      <td>7.0</td>\n",
       "      <td>...</td>\n",
       "      <td>4.0</td>\n",
       "      <td>8.0</td>\n",
       "      <td>6.0</td>\n",
       "      <td>4.0</td>\n",
       "      <td>6.0</td>\n",
       "      <td>8.0</td>\n",
       "      <td>3.0</td>\n",
       "      <td>9.0</td>\n",
       "      <td>7.0</td>\n",
       "      <td>4.0</td>\n",
       "    </tr>\n",
       "    <tr>\n",
       "      <th>tarallo</th>\n",
       "      <td>5.0</td>\n",
       "      <td>0.0</td>\n",
       "      <td>0.0</td>\n",
       "      <td>0.0</td>\n",
       "      <td>0.0</td>\n",
       "      <td>0.0</td>\n",
       "      <td>0.0</td>\n",
       "      <td>0.0</td>\n",
       "      <td>0.0</td>\n",
       "      <td>0.0</td>\n",
       "      <td>...</td>\n",
       "      <td>0.0</td>\n",
       "      <td>0.0</td>\n",
       "      <td>0.0</td>\n",
       "      <td>0.0</td>\n",
       "      <td>0.0</td>\n",
       "      <td>0.0</td>\n",
       "      <td>0.0</td>\n",
       "      <td>0.0</td>\n",
       "      <td>0.0</td>\n",
       "      <td>0.0</td>\n",
       "    </tr>\n",
       "    <tr>\n",
       "      <th>dolce</th>\n",
       "      <td>4.0</td>\n",
       "      <td>0.0</td>\n",
       "      <td>0.0</td>\n",
       "      <td>0.0</td>\n",
       "      <td>0.0</td>\n",
       "      <td>0.0</td>\n",
       "      <td>0.0</td>\n",
       "      <td>0.0</td>\n",
       "      <td>0.0</td>\n",
       "      <td>0.0</td>\n",
       "      <td>...</td>\n",
       "      <td>0.0</td>\n",
       "      <td>0.0</td>\n",
       "      <td>0.0</td>\n",
       "      <td>0.0</td>\n",
       "      <td>0.0</td>\n",
       "      <td>1.0</td>\n",
       "      <td>1.0</td>\n",
       "      <td>0.0</td>\n",
       "      <td>0.0</td>\n",
       "      <td>0.0</td>\n",
       "    </tr>\n",
       "    <tr>\n",
       "      <th>farina</th>\n",
       "      <td>4.0</td>\n",
       "      <td>2.0</td>\n",
       "      <td>7.0</td>\n",
       "      <td>4.0</td>\n",
       "      <td>0.0</td>\n",
       "      <td>0.0</td>\n",
       "      <td>0.0</td>\n",
       "      <td>0.0</td>\n",
       "      <td>0.0</td>\n",
       "      <td>2.0</td>\n",
       "      <td>...</td>\n",
       "      <td>0.0</td>\n",
       "      <td>4.0</td>\n",
       "      <td>0.0</td>\n",
       "      <td>0.0</td>\n",
       "      <td>2.0</td>\n",
       "      <td>3.0</td>\n",
       "      <td>0.0</td>\n",
       "      <td>2.0</td>\n",
       "      <td>0.0</td>\n",
       "      <td>3.0</td>\n",
       "    </tr>\n",
       "  </tbody>\n",
       "</table>\n",
       "<p>5 rows × 5933 columns</p>\n",
       "</div>"
      ],
      "text/plain": [
       "         1994  2245  810   4634  4152  2523  4146  3629  2537  5258  ...  \\\n",
       "e         9.0   1.0  11.0   6.0   9.0   2.0   5.0   3.0   8.0   3.0  ...   \n",
       "g         6.0   6.0  10.0   4.0   6.0   0.0   8.0   2.0   8.0   7.0  ...   \n",
       "tarallo   5.0   0.0   0.0   0.0   0.0   0.0   0.0   0.0   0.0   0.0  ...   \n",
       "dolce     4.0   0.0   0.0   0.0   0.0   0.0   0.0   0.0   0.0   0.0  ...   \n",
       "farina    4.0   2.0   7.0   4.0   0.0   0.0   0.0   0.0   0.0   2.0  ...   \n",
       "\n",
       "         5241  3630  1027  1033  5255  3624  3142  5533  809   1755  \n",
       "e         7.0  20.0  14.0   7.0   7.0  12.0   1.0   4.0  10.0   6.0  \n",
       "g         4.0   8.0   6.0   4.0   6.0   8.0   3.0   9.0   7.0   4.0  \n",
       "tarallo   0.0   0.0   0.0   0.0   0.0   0.0   0.0   0.0   0.0   0.0  \n",
       "dolce     0.0   0.0   0.0   0.0   0.0   1.0   1.0   0.0   0.0   0.0  \n",
       "farina    0.0   4.0   0.0   0.0   2.0   3.0   0.0   2.0   0.0   3.0  \n",
       "\n",
       "[5 rows x 5933 columns]"
      ]
     },
     "execution_count": 38,
     "metadata": {},
     "output_type": "execute_result"
    }
   ],
   "source": [
    "S.head()"
   ]
  },
  {
   "cell_type": "markdown",
   "id": "28d34c4a",
   "metadata": {},
   "source": [
    "### Ricerca"
   ]
  },
  {
   "cell_type": "code",
   "execution_count": 44,
   "id": "278cfdd3",
   "metadata": {},
   "outputs": [
    {
     "data": {
      "text/plain": [
       "{'uovo': 1, 'strapazzato': 1, 'bacon': 1, 'e': 1, 'Krls': 1}"
      ]
     },
     "execution_count": 44,
     "metadata": {},
     "output_type": "execute_result"
    }
   ],
   "source": [
    "q = \"uova strapazzate con bacon e krls\"\n",
    "q_tokens = spacy_tokenizer(q, skip=['ADP', 'CONJ', 'SPACE', 'PUNCT', 'DET'])\n",
    "q_bow = dict(Counter(q_tokens).most_common())\n",
    "q_bow"
   ]
  },
  {
   "cell_type": "code",
   "execution_count": 45,
   "id": "47a1eba2",
   "metadata": {},
   "outputs": [
    {
     "data": {
      "text/plain": [
       "e                    1\n",
       "strapazzato          1\n",
       "bacon                1\n",
       "uovo                 1\n",
       "schiacciatere li     0\n",
       "                    ..\n",
       "1250                 0\n",
       "ridue cet ne         0\n",
       "tagliare ne          0\n",
       "dapprima             0\n",
       "gnocchi.preparate    0\n",
       "Length: 18058, dtype: int64"
      ]
     },
     "execution_count": 45,
     "metadata": {},
     "output_type": "execute_result"
    }
   ],
   "source": [
    "q_vector = []\n",
    "for token in S.index.values:\n",
    "    if token in q_bow.keys():\n",
    "        q_vector.append(q_bow[token])\n",
    "    else:\n",
    "        q_vector.append(0)\n",
    "q_vector = np.array(q_vector)\n",
    "example = pd.Series(q_vector, index=S.index)\n",
    "example.sort_values(ascending=False)"
   ]
  },
  {
   "cell_type": "code",
   "execution_count": 46,
   "id": "56cd2008",
   "metadata": {},
   "outputs": [],
   "source": [
    "from sklearn.metrics.pairwise import cosine_similarity"
   ]
  },
  {
   "cell_type": "code",
   "execution_count": 50,
   "id": "bcba801e",
   "metadata": {},
   "outputs": [
    {
     "name": "stderr",
     "output_type": "stream",
     "text": [
      "/Users/Flint/.pyenv/versions/nlp/lib/python3.10/site-packages/sklearn/utils/extmath.py:203: RuntimeWarning: divide by zero encountered in matmul\n",
      "  ret = a @ b\n",
      "/Users/Flint/.pyenv/versions/nlp/lib/python3.10/site-packages/sklearn/utils/extmath.py:203: RuntimeWarning: overflow encountered in matmul\n",
      "  ret = a @ b\n",
      "/Users/Flint/.pyenv/versions/nlp/lib/python3.10/site-packages/sklearn/utils/extmath.py:203: RuntimeWarning: invalid value encountered in matmul\n",
      "  ret = a @ b\n"
     ]
    }
   ],
   "source": [
    "sigma = cosine_similarity(np.array([q_vector]), S.T)"
   ]
  },
  {
   "cell_type": "code",
   "execution_count": 55,
   "id": "ff151640",
   "metadata": {},
   "outputs": [],
   "source": [
    "ranking = pd.Series(sigma[0], index=S.columns)"
   ]
  },
  {
   "cell_type": "code",
   "execution_count": 57,
   "id": "48601139",
   "metadata": {},
   "outputs": [
    {
     "data": {
      "text/plain": [
       "1947    0.560576\n",
       "3043    0.519615\n",
       "1864    0.510527\n",
       "4717    0.491539\n",
       "5748    0.457116\n",
       "          ...   \n",
       "2760    0.000000\n",
       "315     0.000000\n",
       "5829    0.000000\n",
       "2898    0.000000\n",
       "276     0.000000\n",
       "Length: 5933, dtype: float64"
      ]
     },
     "execution_count": 57,
     "metadata": {},
     "output_type": "execute_result"
    }
   ],
   "source": [
    "ranking.sort_values(ascending=False)"
   ]
  },
  {
   "cell_type": "code",
   "execution_count": 61,
   "id": "4d3fac2e",
   "metadata": {},
   "outputs": [
    {
     "data": {
      "text/plain": [
       "di            19.0\n",
       "e              9.0\n",
       ",              8.0\n",
       "per            6.0\n",
       "un             6.0\n",
       "              ... \n",
       "5mm            0.0\n",
       "23cm           0.0\n",
       "3cm            0.0\n",
       "placchette     0.0\n",
       "emergere       0.0\n",
       "Name: 1994, Length: 20753, dtype: float64"
      ]
     },
     "execution_count": 61,
     "metadata": {},
     "output_type": "execute_result"
    }
   ],
   "source": [
    "W[1994].sort_values(ascending=False)"
   ]
  },
  {
   "cell_type": "code",
   "execution_count": null,
   "id": "c9c25fa5",
   "metadata": {},
   "outputs": [],
   "source": []
  }
 ],
 "metadata": {
  "kernelspec": {
   "display_name": "nlp",
   "language": "python",
   "name": "python3"
  },
  "language_info": {
   "codemirror_mode": {
    "name": "ipython",
    "version": 3
   },
   "file_extension": ".py",
   "mimetype": "text/x-python",
   "name": "python",
   "nbconvert_exporter": "python",
   "pygments_lexer": "ipython3",
   "version": "3.10.4"
  }
 },
 "nbformat": 4,
 "nbformat_minor": 5
}
