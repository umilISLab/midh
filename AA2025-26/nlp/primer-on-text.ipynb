{
 "cells": [
  {
   "cell_type": "code",
   "execution_count": 10,
   "id": "9fe4f39e",
   "metadata": {},
   "outputs": [],
   "source": [
    "import pandas as pd\n",
    "import ast "
   ]
  },
  {
   "cell_type": "markdown",
   "id": "fd666e8f",
   "metadata": {},
   "source": [
    "# Introduzione al trattamento di dati testuali strutturati, semi-strutturati e non strutturati con Pandas\n",
    "\n",
    "Dataset reperibile su [kaggle](https://www.kaggle.com/datasets)"
   ]
  },
  {
   "cell_type": "code",
   "execution_count": 11,
   "id": "1dd10392",
   "metadata": {},
   "outputs": [],
   "source": [
    "datafile = \"/Users/Flint/Data/recipes/it_recipes.csv\"\n",
    "df = pd.read_csv(datafile, index_col=0)\n",
    "df = df.dropna()"
   ]
  },
  {
   "cell_type": "code",
   "execution_count": 12,
   "id": "e9fd8c2c",
   "metadata": {},
   "outputs": [
    {
     "data": {
      "text/html": [
       "<div>\n",
       "<style scoped>\n",
       "    .dataframe tbody tr th:only-of-type {\n",
       "        vertical-align: middle;\n",
       "    }\n",
       "\n",
       "    .dataframe tbody tr th {\n",
       "        vertical-align: top;\n",
       "    }\n",
       "\n",
       "    .dataframe thead th {\n",
       "        text-align: right;\n",
       "    }\n",
       "</style>\n",
       "<table border=\"1\" class=\"dataframe\">\n",
       "  <thead>\n",
       "    <tr style=\"text-align: right;\">\n",
       "      <th></th>\n",
       "      <th>Nome</th>\n",
       "      <th>Categoria</th>\n",
       "      <th>Link</th>\n",
       "      <th>Persone/Pezzi</th>\n",
       "      <th>Ingredienti</th>\n",
       "      <th>Steps</th>\n",
       "    </tr>\n",
       "  </thead>\n",
       "  <tbody>\n",
       "    <tr>\n",
       "      <th>0</th>\n",
       "      <td>Tiramisù</td>\n",
       "      <td>Dolci</td>\n",
       "      <td>https://ricette.giallozafferano.it/Tiramisu.html</td>\n",
       "      <td>8</td>\n",
       "      <td>[['Mascarpone', '750g'], ['Uova', '260g'], ['S...</td>\n",
       "      <td>Per preparare il tiramisù preparate il caffé c...</td>\n",
       "    </tr>\n",
       "    <tr>\n",
       "      <th>1</th>\n",
       "      <td>Cookies</td>\n",
       "      <td>Dolci</td>\n",
       "      <td>https://ricette.giallozafferano.it/Cookies.html</td>\n",
       "      <td>12</td>\n",
       "      <td>[['Farina 00', '195g'], ['Burro', '100g'], ['B...</td>\n",
       "      <td>Per preparare i cookies, assicuratevi che il b...</td>\n",
       "    </tr>\n",
       "    <tr>\n",
       "      <th>2</th>\n",
       "      <td>Pancake allo sciroppo d'acero</td>\n",
       "      <td>Dolci</td>\n",
       "      <td>https://ricette.giallozafferano.it/Pancakes-al...</td>\n",
       "      <td>4</td>\n",
       "      <td>[['Burro', '25g'], ['Farina 00', '125g'], ['Uo...</td>\n",
       "      <td>Iniziamo la preparazione dei pancake fondendo ...</td>\n",
       "    </tr>\n",
       "    <tr>\n",
       "      <th>3</th>\n",
       "      <td>Crema al mascarpone</td>\n",
       "      <td>Dolci</td>\n",
       "      <td>https://ricette.giallozafferano.it/Crema-al-ma...</td>\n",
       "      <td>4</td>\n",
       "      <td>[['Mascarpone', '500g'], ['Zucchero', '125g'],...</td>\n",
       "      <td>Per preparare la crema al mascarpone versate i...</td>\n",
       "    </tr>\n",
       "    <tr>\n",
       "      <th>4</th>\n",
       "      <td>Crepe dolci e salate (ricetta base)</td>\n",
       "      <td>Dolci</td>\n",
       "      <td>https://ricette.giallozafferano.it/Crepes-dolc...</td>\n",
       "      <td>15</td>\n",
       "      <td>[['Uova', '3'], ['Farina 00', '250g'], ['Latte...</td>\n",
       "      <td>Per preparare le crepe dolci e salate iniziate...</td>\n",
       "    </tr>\n",
       "  </tbody>\n",
       "</table>\n",
       "</div>"
      ],
      "text/plain": [
       "                                  Nome Categoria  \\\n",
       "0                             Tiramisù     Dolci   \n",
       "1                              Cookies     Dolci   \n",
       "2        Pancake allo sciroppo d'acero     Dolci   \n",
       "3                  Crema al mascarpone     Dolci   \n",
       "4  Crepe dolci e salate (ricetta base)     Dolci   \n",
       "\n",
       "                                                Link  Persone/Pezzi  \\\n",
       "0   https://ricette.giallozafferano.it/Tiramisu.html              8   \n",
       "1    https://ricette.giallozafferano.it/Cookies.html             12   \n",
       "2  https://ricette.giallozafferano.it/Pancakes-al...              4   \n",
       "3  https://ricette.giallozafferano.it/Crema-al-ma...              4   \n",
       "4  https://ricette.giallozafferano.it/Crepes-dolc...             15   \n",
       "\n",
       "                                         Ingredienti  \\\n",
       "0  [['Mascarpone', '750g'], ['Uova', '260g'], ['S...   \n",
       "1  [['Farina 00', '195g'], ['Burro', '100g'], ['B...   \n",
       "2  [['Burro', '25g'], ['Farina 00', '125g'], ['Uo...   \n",
       "3  [['Mascarpone', '500g'], ['Zucchero', '125g'],...   \n",
       "4  [['Uova', '3'], ['Farina 00', '250g'], ['Latte...   \n",
       "\n",
       "                                               Steps  \n",
       "0  Per preparare il tiramisù preparate il caffé c...  \n",
       "1  Per preparare i cookies, assicuratevi che il b...  \n",
       "2  Iniziamo la preparazione dei pancake fondendo ...  \n",
       "3  Per preparare la crema al mascarpone versate i...  \n",
       "4  Per preparare le crepe dolci e salate iniziate...  "
      ]
     },
     "execution_count": 12,
     "metadata": {},
     "output_type": "execute_result"
    }
   ],
   "source": [
    "df.head()"
   ]
  },
  {
   "cell_type": "code",
   "execution_count": 13,
   "id": "afdcbe47",
   "metadata": {},
   "outputs": [
    {
     "data": {
      "text/plain": [
       "array(['Dolci', 'Primi piatti', 'Salse e Sughi', 'Lievitati',\n",
       "       'Secondi piatti', 'Contorni', 'Antipasti', 'Piatti Unici',\n",
       "       'Torte salate', 'Bevande', 'Insalate', 'Marmellate e Conserve'],\n",
       "      dtype=object)"
      ]
     },
     "execution_count": 13,
     "metadata": {},
     "output_type": "execute_result"
    }
   ],
   "source": [
    "s = df[\"Categoria\"]\n",
    "s.unique()"
   ]
  },
  {
   "cell_type": "code",
   "execution_count": 14,
   "id": "c302dc6f",
   "metadata": {},
   "outputs": [
    {
     "data": {
      "text/plain": [
       "'https://ricette.giallozafferano.it/Crepes-dolci-e-salate-ricetta-base.html'"
      ]
     },
     "execution_count": 14,
     "metadata": {},
     "output_type": "execute_result"
    }
   ],
   "source": [
    "row = df.loc[4]\n",
    "row[\"Link\"]"
   ]
  },
  {
   "cell_type": "code",
   "execution_count": 21,
   "id": "6d339401",
   "metadata": {},
   "outputs": [],
   "source": [
    "def row2text(row, fields=None):\n",
    "    text_collector = []\n",
    "    if fields is None:\n",
    "        fields = row.keys()\n",
    "    for k in fields:\n",
    "        if k == \"Ingredienti\":\n",
    "            ilist = ingredients2list(row[k])\n",
    "            tlist = \"\\n\".join([f\"{x[1]} di {x[0]}\" for x in ilist])\n",
    "            text_collector.append(tlist)\n",
    "        else:\n",
    "            text_collector.append(str(row[k]))\n",
    "    if len(text_collector) > 0:\n",
    "        text = \"\\n\".join(text_collector)\n",
    "    else:\n",
    "        text = \"\"\n",
    "    return text\n",
    "\n",
    "def ingredients2list(data):\n",
    "    return ast.literal_eval(data)"
   ]
  },
  {
   "cell_type": "code",
   "execution_count": 23,
   "id": "43fdc8ad",
   "metadata": {},
   "outputs": [
    {
     "name": "stdout",
     "output_type": "stream",
     "text": [
      "Parmigiana di melanzane\n",
      "7kg di Melanzane ovali nere\n",
      "1kg di Passata di pomodoro\n",
      "500g di Fiordilatte\n",
      "150g di Parmigiano Reggiano DOP\n",
      "1 di Cipolle dorate\n",
      "q.b. di Basilico\n",
      "q.b. di Olio extravergine d'oliva\n",
      "q.b. di Pepe nero\n",
      "q.b. di Sale fino\n",
      "q.b. di Olio di semi di arachide\n",
      "Per preparare la parmigiana di melanzane cominciate dal sugo. Pulite e tritate la cipolla versatela in un tegame dove avrete scaldato l'olio (che copra il fondo). Lasciatela rosolare per un paio di minuti mescolando spesso per non farla bruciare, poi unite la passata di pomodoro Regolate di sale e versate le foglie di basilico sciacquate il recipiente con poca acqua e versatela in pentola quindi lasciate cuocere a fuoco dolce per 45-50 minuti Nel frattempo tagliate a cubetti il fiordilatte tenendone da parte un pezzo che servirà alla fine Mettete a scolare i cubetti in uno scolapasta messo in una ciotola coprite con pellicola e mettete da parte: questo procedimento serve a far colare il siero in eccesso A questo punto passate alle melanzane, pulitele e spuntatele Affettate per il senso della lunghezza ottenendo delle fette spesse di 4-5 mm Quando avrete finito friggete le melanzane in olio già caldo 170° immergendo pochi pezzi alla volta non appena saranno leggermente dorate scolate su vassoio con carta assorbente Quando sul vassoio sarà finito lo spazio mettete altra carta assorbente In ultimo passate alla composizione, iniziate versando un po’ di sugo in una pirofila da 20x30 cm Formate il primo strato disponendo le fette di melanzane versate il sugo di pomodoro spalmatelo e distribuite dei cubetti di fiordilatte Spolverizzate con il Parmigiano grattugiato Ricominciate aggiungendo il sugo di pomodoro E poi ancora i formaggi Finite con il Parmigiano grattugiato Trascorso il tempo di cottura lasciate riposare per 15-20 minuti prima di servire la vostra parmigiana di melanzane \n"
     ]
    }
   ],
   "source": [
    "recipe = df.loc[42]\n",
    "text = row2text(row=recipe, fields=['Nome', 'Ingredienti', 'Steps'])\n",
    "print(text)"
   ]
  },
  {
   "cell_type": "markdown",
   "id": "97d92dae",
   "metadata": {},
   "source": [
    "## Salviamo su file"
   ]
  },
  {
   "cell_type": "code",
   "execution_count": 24,
   "id": "ccf3902c",
   "metadata": {},
   "outputs": [],
   "source": [
    "import os "
   ]
  },
  {
   "cell_type": "code",
   "execution_count": null,
   "id": "e519e5f3",
   "metadata": {},
   "outputs": [],
   "source": [
    "folder = \"/Users/Flint/Data/recipes/textit\"\n",
    "for i, row in df.iterrows():\n",
    "    text = row2text(row=row, fields=['Nome', 'Ingredienti', 'Steps'])\n",
    "    file_name = f\"r_{i}.txt\"\n",
    "    with open(os.path.join(folder, file_name), 'w') as out:\n",
    "        out.write(text)"
   ]
  },
  {
   "cell_type": "code",
   "execution_count": null,
   "id": "5c178ef1",
   "metadata": {},
   "outputs": [],
   "source": []
  }
 ],
 "metadata": {
  "kernelspec": {
   "display_name": "nlp",
   "language": "python",
   "name": "python3"
  },
  "language_info": {
   "codemirror_mode": {
    "name": "ipython",
    "version": 3
   },
   "file_extension": ".py",
   "mimetype": "text/x-python",
   "name": "python",
   "nbconvert_exporter": "python",
   "pygments_lexer": "ipython3",
   "version": "3.10.4"
  }
 },
 "nbformat": 4,
 "nbformat_minor": 5
}
