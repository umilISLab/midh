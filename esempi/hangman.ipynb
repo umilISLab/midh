{
 "cells": [
  {
   "cell_type": "code",
   "execution_count": 1,
   "metadata": {},
   "outputs": [],
   "source": [
    "from utilities import read_words, print_template\n",
    "import numpy as np\n",
    "import json "
   ]
  },
  {
   "cell_type": "markdown",
   "metadata": {},
   "source": [
    "# Indovina la parola\n",
    "1. **Input**: lunghezza parola, credito, costo lettera, costo parola, vincita\n",
    "2. generare una parola\n",
    "3. mostrare lo scheletro della parola\n",
    "4. se:\n",
    "   1. $credito \\leq 0 $\n",
    "      1. termina\n",
    "5. chiedere una azione all'agente\n",
    "6. se:\n",
    "   1. chiesto una lettera X\n",
    "   2. l'agente paga $-c$\n",
    "   3. se:\n",
    "      1. la lettera X è nella parola\n",
    "      2. mostro la parola con X (memorizzo)\n",
    "   4. altrimenti:\n",
    "      1. mostro la parola corrente\n",
    "7. altrimenti:\n",
    "   1. l'agente prova a indovinare\n",
    "   2. se:\n",
    "      1. corretto: \n",
    "         1. l'agente guadagna $v$\n",
    "         2. termina\n",
    "   3. altrimenti:\n",
    "      1. l'agente paga $-w$\n",
    "8. ripetere dal punto 4"
   ]
  },
  {
   "cell_type": "code",
   "execution_count": 2,
   "metadata": {},
   "outputs": [],
   "source": [
    "k = 10 # credito\n",
    "c = 1 # costo lettera\n",
    "w = 3 # costo parola\n",
    "v = 10 # vincita \n",
    "ln = 6 # lunghezza parola"
   ]
  },
  {
   "cell_type": "code",
   "execution_count": 5,
   "metadata": {},
   "outputs": [
    {
     "name": "stdout",
     "output_type": "stream",
     "text": [
      "_ _ _ _ _ _ _  count: 7\n"
     ]
    }
   ],
   "source": [
    "fp = '/Users/flint/GitHub/midh/data/parole_italiane.txt'\n",
    "fj = '/Users/flint/Data/italian-first-names/ITGivenMale.json'\n",
    "\n",
    "with open(fj, 'r') as infile:\n",
    "    jfile = json.load(infile)\n",
    "list_of_words = [x['name'] for x in jfile]\n",
    "word_to_guess = np.random.choice(list_of_words)\n",
    "\n",
    "# stampa scheletro della parola\n",
    "template = print_template(word_to_guess)\n",
    "print(template, \"count: {}\".format(len(word_to_guess)))"
   ]
  },
  {
   "cell_type": "code",
   "execution_count": null,
   "metadata": {},
   "outputs": [],
   "source": []
  }
 ],
 "metadata": {
  "kernelspec": {
   "display_name": "nlp",
   "language": "python",
   "name": "python3"
  },
  "language_info": {
   "codemirror_mode": {
    "name": "ipython",
    "version": 3
   },
   "file_extension": ".py",
   "mimetype": "text/x-python",
   "name": "python",
   "nbconvert_exporter": "python",
   "pygments_lexer": "ipython3",
   "version": "3.9.17"
  }
 },
 "nbformat": 4,
 "nbformat_minor": 2
}
