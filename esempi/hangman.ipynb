{
 "cells": [
  {
   "cell_type": "code",
   "execution_count": null,
   "metadata": {},
   "outputs": [],
   "source": []
  },
  {
   "cell_type": "markdown",
   "metadata": {},
   "source": [
    "# Indovina la parola\n",
    "1. **Input**: lunghezza parola, credito, costo lettera, costo parola, vincita\n",
    "2. generare una parola\n",
    "3. mostrare lo scheletro della parola\n",
    "4. se:\n",
    "   1. $credito \\leq 0 $\n",
    "      1. termina\n",
    "5. chiedere una azione all'agente\n",
    "6. se:\n",
    "   1. chiesto una lettera X\n",
    "   2. l'agente paga $-c$\n",
    "   3. se:\n",
    "      1. la lettera X è nella parola\n",
    "      2. mostro la parola con X (memorizzo)\n",
    "   4. altrimenti:\n",
    "      1. mostro la parola corrente\n",
    "7. altrimenti:\n",
    "   1. l'agente prova a indovinare\n",
    "   2. se:\n",
    "      1. corretto: \n",
    "         1. l'agente guadagna $v$\n",
    "         2. termina\n",
    "   3. altrimenti:\n",
    "      1. l'agente paga $-w$\n",
    "8. ripetere dal punto 4"
   ]
  },
  {
   "cell_type": "code",
   "execution_count": null,
   "metadata": {},
   "outputs": [],
   "source": [
    "k = 10 # credito\n",
    "c = 1 # costo lettera\n",
    "w = 3 # costo parola\n",
    "v = 10 # vincita \n",
    "ln = 6 # lunghezza parola"
   ]
  }
 ],
 "metadata": {
  "kernelspec": {
   "display_name": "nlp",
   "language": "python",
   "name": "python3"
  },
  "language_info": {
   "name": "python",
   "version": "3.9.17"
  }
 },
 "nbformat": 4,
 "nbformat_minor": 2
}
