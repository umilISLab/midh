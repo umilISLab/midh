{
 "cells": [
  {
   "cell_type": "code",
   "execution_count": 1,
   "metadata": {},
   "outputs": [],
   "source": [
    "from IPython.display import clear_output\n",
    "from utilities import read_words, print_template, update_guess\n",
    "import numpy as np\n",
    "import json "
   ]
  },
  {
   "cell_type": "markdown",
   "metadata": {},
   "source": [
    "# Indovina la parola\n",
    "1. **Input**: lunghezza parola, credito, costo lettera, costo parola, vincita\n",
    "2. generare una parola\n",
    "3. mostrare lo scheletro della parola\n",
    "4. se:\n",
    "   1. $credito \\leq 0 $\n",
    "      1. termina\n",
    "5. chiedere una azione all'agente\n",
    "6. se:\n",
    "   1. chiesto una lettera X\n",
    "   2. l'agente paga $-c$\n",
    "   3. se:\n",
    "      1. la lettera X è nella parola\n",
    "      2. mostro la parola con X (memorizzo)\n",
    "   4. altrimenti:\n",
    "      1. mostro la parola corrente\n",
    "7. altrimenti:\n",
    "   1. l'agente prova a indovinare\n",
    "   2. se:\n",
    "      1. corretto: \n",
    "         1. l'agente guadagna $v$\n",
    "         2. termina\n",
    "   3. altrimenti:\n",
    "      1. l'agente paga $-w$\n",
    "8. ripetere dal punto 4"
   ]
  },
  {
   "cell_type": "code",
   "execution_count": 2,
   "metadata": {},
   "outputs": [],
   "source": [
    "k = 10 # credito\n",
    "c = 1 # costo lettera\n",
    "w = 3 # costo parola\n",
    "v = 10 # vincita \n",
    "ln = 6 # lunghezza parola"
   ]
  },
  {
   "cell_type": "code",
   "execution_count": 3,
   "metadata": {},
   "outputs": [
    {
     "name": "stdout",
     "output_type": "stream",
     "text": [
      " _  _  _  _  _  _  _  numero: 7\n",
      " a  _  _  _  _  _  _  numero: 7\n",
      "a _  _  _  _  _  _  numero: 7\n",
      "a _  _  _  o  _  o  numero: 7\n",
      "a _  _  _ o _ o numero: 7\n",
      "a _  _  _ o _ o numero: 7\n",
      "a _  _  _ o _ o numero: 7\n",
      "a _  _  _ o _ o numero: 7\n",
      "a _  _  _ o _ o numero: 7\n",
      "a _  _  _ o _ o numero: 7\n",
      "Hai perso, la parola era angiolo\n"
     ]
    }
   ],
   "source": [
    "fp = '/Users/flint/GitHub/midh/data/parole_italiane.txt'\n",
    "fj = '/Users/flint/Data/italian-first-names/ITGivenMale.json'\n",
    "\n",
    "with open(fj, 'r') as infile:\n",
    "    jfile = json.load(infile)\n",
    "list_of_words = [x['name'] for x in jfile]\n",
    "\n",
    "\n",
    "word_to_guess = np.random.choice(list_of_words).lower()\n",
    "\n",
    "player = input('Come ti chiami?')\n",
    "\n",
    "player_profile = {\n",
    "    'name': player,\n",
    "    'word': word_to_guess,\n",
    "    'score': k,\n",
    "    'current_guess': \".\" * len(word_to_guess),\n",
    "    'history': []\n",
    "}\n",
    "\n",
    "failure = False \n",
    "success = False\n",
    "template = print_template(word_to_guess)\n",
    "\n",
    "while not failure and not success:\n",
    "    # stampa scheletro della parola\n",
    "\n",
    "    print(template, \"numero: {}\".format(len(word_to_guess)))\n",
    "\n",
    "    # chiedere un'azione al giocatore\n",
    "    action = input(\"Scegli l'azione: L(ettera) o P(arola)\")\n",
    "\n",
    "    if action == 'L':\n",
    "        player_profile['score'] = player_profile['score'] - c\n",
    "        character = input(\"Scegli una lettera minuscola\")\n",
    "        template = print_template(word_to_guess, character=character, current_guess=player_profile['current_guess'])\n",
    "        guess = update_guess(character=character, word_to_guess=word_to_guess, \n",
    "                            current_guess=player_profile['current_guess'])\n",
    "        player_profile['current_guess'] = guess\n",
    "    elif action == 'P':\n",
    "        player_word = input(\"Prova una parola\")\n",
    "        if player_word == word_to_guess:\n",
    "            player_profile['score'] = player_profile['score'] + v\n",
    "            print(\"Hai vinto, il tuo punteggio è \".format(player_profile['score']))\n",
    "            success = True\n",
    "            break\n",
    "        else:\n",
    "            player_profile['score'] = player_profile['score'] - w\n",
    "    elif action == 'quit':\n",
    "        break\n",
    "    else:\n",
    "        #raise Exception(\"L'istruzione {} è sbagliata\".format(action))\n",
    "        pass\n",
    "    \n",
    "    # print(failure, success, player_profile['score'], word_to_guess, guess)\n",
    "\n",
    "    # controllare se il gioco è finito\n",
    "    if player_profile['score'] <= 0:\n",
    "        print(\"Hai perso, la parola era {}\".format(word_to_guess))\n",
    "        failure = True\n",
    "    elif guess == word_to_guess:\n",
    "        print(\"Hai vinto, il tuo punteggio è \".format(player_profile['score']))\n",
    "        success = True\n",
    "    else:\n",
    "        pass\n",
    "    \n",
    "\n"
   ]
  },
  {
   "cell_type": "code",
   "execution_count": null,
   "metadata": {},
   "outputs": [],
   "source": []
  }
 ],
 "metadata": {
  "kernelspec": {
   "display_name": "nlp",
   "language": "python",
   "name": "python3"
  },
  "language_info": {
   "codemirror_mode": {
    "name": "ipython",
    "version": 3
   },
   "file_extension": ".py",
   "mimetype": "text/x-python",
   "name": "python",
   "nbconvert_exporter": "python",
   "pygments_lexer": "ipython3",
   "version": "3.9.17"
  }
 },
 "nbformat": 4,
 "nbformat_minor": 2
}
