{
 "cells": [
  {
   "cell_type": "code",
   "execution_count": 1,
   "metadata": {},
   "outputs": [],
   "source": [
    "import pandas as pd \n",
    "import ast "
   ]
  },
  {
   "cell_type": "code",
   "execution_count": 2,
   "metadata": {},
   "outputs": [],
   "source": [
    "file_path = \"/Users/flint/Data/recipe/italian/gz_recipe.csv\""
   ]
  },
  {
   "cell_type": "code",
   "execution_count": 3,
   "metadata": {},
   "outputs": [
    {
     "data": {
      "text/html": [
       "<div>\n",
       "<style scoped>\n",
       "    .dataframe tbody tr th:only-of-type {\n",
       "        vertical-align: middle;\n",
       "    }\n",
       "\n",
       "    .dataframe tbody tr th {\n",
       "        vertical-align: top;\n",
       "    }\n",
       "\n",
       "    .dataframe thead th {\n",
       "        text-align: right;\n",
       "    }\n",
       "</style>\n",
       "<table border=\"1\" class=\"dataframe\">\n",
       "  <thead>\n",
       "    <tr style=\"text-align: right;\">\n",
       "      <th></th>\n",
       "      <th>Nome</th>\n",
       "      <th>Categoria</th>\n",
       "      <th>Link</th>\n",
       "      <th>Persone/Pezzi</th>\n",
       "      <th>Ingredienti</th>\n",
       "      <th>Steps</th>\n",
       "    </tr>\n",
       "  </thead>\n",
       "  <tbody>\n",
       "    <tr>\n",
       "      <th>0</th>\n",
       "      <td>Tiramisù</td>\n",
       "      <td>Dolci</td>\n",
       "      <td>https://ricette.giallozafferano.it/Tiramisu.html</td>\n",
       "      <td>8</td>\n",
       "      <td>[['Mascarpone', '750g'], ['Uova', '260g'], ['S...</td>\n",
       "      <td>Per preparare il tiramisù preparate il caffé c...</td>\n",
       "    </tr>\n",
       "    <tr>\n",
       "      <th>1</th>\n",
       "      <td>Cookies</td>\n",
       "      <td>Dolci</td>\n",
       "      <td>https://ricette.giallozafferano.it/Cookies.html</td>\n",
       "      <td>12</td>\n",
       "      <td>[['Farina 00', '195g'], ['Burro', '100g'], ['B...</td>\n",
       "      <td>Per preparare i cookies, assicuratevi che il b...</td>\n",
       "    </tr>\n",
       "    <tr>\n",
       "      <th>2</th>\n",
       "      <td>Pancake allo sciroppo d'acero</td>\n",
       "      <td>Dolci</td>\n",
       "      <td>https://ricette.giallozafferano.it/Pancakes-al...</td>\n",
       "      <td>4</td>\n",
       "      <td>[['Burro', '25g'], ['Farina 00', '125g'], ['Uo...</td>\n",
       "      <td>Iniziamo la preparazione dei pancake fondendo ...</td>\n",
       "    </tr>\n",
       "    <tr>\n",
       "      <th>3</th>\n",
       "      <td>Crema al mascarpone</td>\n",
       "      <td>Dolci</td>\n",
       "      <td>https://ricette.giallozafferano.it/Crema-al-ma...</td>\n",
       "      <td>4</td>\n",
       "      <td>[['Mascarpone', '500g'], ['Zucchero', '125g'],...</td>\n",
       "      <td>Per preparare la crema al mascarpone versate i...</td>\n",
       "    </tr>\n",
       "    <tr>\n",
       "      <th>4</th>\n",
       "      <td>Crepe dolci e salate (ricetta base)</td>\n",
       "      <td>Dolci</td>\n",
       "      <td>https://ricette.giallozafferano.it/Crepes-dolc...</td>\n",
       "      <td>15</td>\n",
       "      <td>[['Uova', '3'], ['Farina 00', '250g'], ['Latte...</td>\n",
       "      <td>Per preparare le crepe dolci e salate iniziate...</td>\n",
       "    </tr>\n",
       "  </tbody>\n",
       "</table>\n",
       "</div>"
      ],
      "text/plain": [
       "                                  Nome Categoria  \\\n",
       "0                             Tiramisù     Dolci   \n",
       "1                              Cookies     Dolci   \n",
       "2        Pancake allo sciroppo d'acero     Dolci   \n",
       "3                  Crema al mascarpone     Dolci   \n",
       "4  Crepe dolci e salate (ricetta base)     Dolci   \n",
       "\n",
       "                                                Link  Persone/Pezzi  \\\n",
       "0   https://ricette.giallozafferano.it/Tiramisu.html              8   \n",
       "1    https://ricette.giallozafferano.it/Cookies.html             12   \n",
       "2  https://ricette.giallozafferano.it/Pancakes-al...              4   \n",
       "3  https://ricette.giallozafferano.it/Crema-al-ma...              4   \n",
       "4  https://ricette.giallozafferano.it/Crepes-dolc...             15   \n",
       "\n",
       "                                         Ingredienti  \\\n",
       "0  [['Mascarpone', '750g'], ['Uova', '260g'], ['S...   \n",
       "1  [['Farina 00', '195g'], ['Burro', '100g'], ['B...   \n",
       "2  [['Burro', '25g'], ['Farina 00', '125g'], ['Uo...   \n",
       "3  [['Mascarpone', '500g'], ['Zucchero', '125g'],...   \n",
       "4  [['Uova', '3'], ['Farina 00', '250g'], ['Latte...   \n",
       "\n",
       "                                               Steps  \n",
       "0  Per preparare il tiramisù preparate il caffé c...  \n",
       "1  Per preparare i cookies, assicuratevi che il b...  \n",
       "2  Iniziamo la preparazione dei pancake fondendo ...  \n",
       "3  Per preparare la crema al mascarpone versate i...  \n",
       "4  Per preparare le crepe dolci e salate iniziate...  "
      ]
     },
     "execution_count": 3,
     "metadata": {},
     "output_type": "execute_result"
    }
   ],
   "source": [
    "data = pd.read_csv(file_path, index_col=0)\n",
    "data.head()"
   ]
  },
  {
   "cell_type": "code",
   "execution_count": 15,
   "metadata": {},
   "outputs": [],
   "source": [
    "raw_ingredients = [ast.literal_eval(x) for x in data['Ingredienti'].values]\n",
    "ingredient_table = []\n",
    "for i, name in enumerate(data['Nome']):\n",
    "    ingredients_list = raw_ingredients[i]\n",
    "    for ingredient, quantity in ingredients_list:\n",
    "        try:\n",
    "            qta = int(quantity[:-1])\n",
    "        except Exception:\n",
    "            qta = 1\n",
    "        ingredient_table.append({\n",
    "            'ricetta': i,\n",
    "            'ingrediente': ingredient,\n",
    "            'qta': qta\n",
    "        })\n",
    "ingredients = pd.DataFrame(ingredient_table)"
   ]
  },
  {
   "cell_type": "code",
   "execution_count": 16,
   "metadata": {},
   "outputs": [
    {
     "data": {
      "text/html": [
       "<div>\n",
       "<style scoped>\n",
       "    .dataframe tbody tr th:only-of-type {\n",
       "        vertical-align: middle;\n",
       "    }\n",
       "\n",
       "    .dataframe tbody tr th {\n",
       "        vertical-align: top;\n",
       "    }\n",
       "\n",
       "    .dataframe thead th {\n",
       "        text-align: right;\n",
       "    }\n",
       "</style>\n",
       "<table border=\"1\" class=\"dataframe\">\n",
       "  <thead>\n",
       "    <tr style=\"text-align: right;\">\n",
       "      <th></th>\n",
       "      <th>ricetta</th>\n",
       "      <th>ingrediente</th>\n",
       "      <th>qta</th>\n",
       "    </tr>\n",
       "  </thead>\n",
       "  <tbody>\n",
       "    <tr>\n",
       "      <th>0</th>\n",
       "      <td>0</td>\n",
       "      <td>Mascarpone</td>\n",
       "      <td>750</td>\n",
       "    </tr>\n",
       "    <tr>\n",
       "      <th>1</th>\n",
       "      <td>0</td>\n",
       "      <td>Uova</td>\n",
       "      <td>260</td>\n",
       "    </tr>\n",
       "    <tr>\n",
       "      <th>2</th>\n",
       "      <td>0</td>\n",
       "      <td>Savoiardi</td>\n",
       "      <td>250</td>\n",
       "    </tr>\n",
       "    <tr>\n",
       "      <th>3</th>\n",
       "      <td>0</td>\n",
       "      <td>Zucchero</td>\n",
       "      <td>120</td>\n",
       "    </tr>\n",
       "    <tr>\n",
       "      <th>4</th>\n",
       "      <td>0</td>\n",
       "      <td>Caffè</td>\n",
       "      <td>300</td>\n",
       "    </tr>\n",
       "    <tr>\n",
       "      <th>...</th>\n",
       "      <td>...</td>\n",
       "      <td>...</td>\n",
       "      <td>...</td>\n",
       "    </tr>\n",
       "    <tr>\n",
       "      <th>65105</th>\n",
       "      <td>5938</td>\n",
       "      <td>Olio extravergine d'oliva</td>\n",
       "      <td>1</td>\n",
       "    </tr>\n",
       "    <tr>\n",
       "      <th>65106</th>\n",
       "      <td>5938</td>\n",
       "      <td>Sale fino</td>\n",
       "      <td>1</td>\n",
       "    </tr>\n",
       "    <tr>\n",
       "      <th>65107</th>\n",
       "      <td>5938</td>\n",
       "      <td>Pepe nero</td>\n",
       "      <td>1</td>\n",
       "    </tr>\n",
       "    <tr>\n",
       "      <th>65108</th>\n",
       "      <td>5938</td>\n",
       "      <td>Basilico</td>\n",
       "      <td>1</td>\n",
       "    </tr>\n",
       "    <tr>\n",
       "      <th>65109</th>\n",
       "      <td>5938</td>\n",
       "      <td>Radicchio</td>\n",
       "      <td>190</td>\n",
       "    </tr>\n",
       "  </tbody>\n",
       "</table>\n",
       "<p>65110 rows × 3 columns</p>\n",
       "</div>"
      ],
      "text/plain": [
       "       ricetta                ingrediente  qta\n",
       "0            0                 Mascarpone  750\n",
       "1            0                       Uova  260\n",
       "2            0                  Savoiardi  250\n",
       "3            0                   Zucchero  120\n",
       "4            0                      Caffè  300\n",
       "...        ...                        ...  ...\n",
       "65105     5938  Olio extravergine d'oliva    1\n",
       "65106     5938                  Sale fino    1\n",
       "65107     5938                  Pepe nero    1\n",
       "65108     5938                   Basilico    1\n",
       "65109     5938                  Radicchio  190\n",
       "\n",
       "[65110 rows x 3 columns]"
      ]
     },
     "execution_count": 16,
     "metadata": {},
     "output_type": "execute_result"
    }
   ],
   "source": [
    "ingredients"
   ]
  },
  {
   "cell_type": "markdown",
   "metadata": {},
   "source": [
    "## Creazione della matrice documenti $\\times$ termini (in questo caso ricetta $\\times$ ingrediente)"
   ]
  },
  {
   "cell_type": "code",
   "execution_count": 14,
   "metadata": {},
   "outputs": [],
   "source": [
    "import numpy as np "
   ]
  },
  {
   "cell_type": "code",
   "execution_count": 23,
   "metadata": {},
   "outputs": [
    {
     "name": "stdout",
     "output_type": "stream",
     "text": [
      "1641 ['Abbacchio', 'Acai in polvere', 'Acciughe (alici)', \"Acciughe sott'olio\"]\n"
     ]
    }
   ],
   "source": [
    "vocabulary = sorted(ingredients.ingrediente.unique())\n",
    "print(len(vocabulary), vocabulary[:4])\n",
    "ingredient2id = dict([(x, i) for i, x in enumerate(vocabulary)])\n",
    "id2ingredient = dict([(i, x) for i, x in enumerate(vocabulary)])\n",
    "recipe2id = dict([(x, i) for i, x in enumerate(data['Nome'].values)])\n",
    "id2recipe = dict([(i, x) for i, x in enumerate(data['Nome'].values)])"
   ]
  },
  {
   "cell_type": "code",
   "execution_count": 24,
   "metadata": {},
   "outputs": [],
   "source": [
    "matrix = np.zeros((data.shape[0], len(vocabulary)))\n",
    "for i, row in ingredients.iterrows():\n",
    "    recipe = row['ricetta']\n",
    "    ingredient = row['ingrediente']\n",
    "    qta = row['qta']\n",
    "    matrix[recipe, ingredient2id[ingredient]] = qta "
   ]
  },
  {
   "cell_type": "code",
   "execution_count": null,
   "metadata": {},
   "outputs": [
    {
     "data": {
      "text/plain": [
       "array([[0., 0., 0., ..., 0., 0., 0.],\n",
       "       [0., 0., 0., ..., 0., 0., 0.],\n",
       "       [0., 0., 0., ..., 0., 0., 0.],\n",
       "       ...,\n",
       "       [0., 0., 0., ..., 0., 0., 0.],\n",
       "       [0., 0., 0., ..., 0., 0., 0.],\n",
       "       [0., 0., 0., ..., 0., 0., 0.]])"
      ]
     },
     "execution_count": 22,
     "metadata": {},
     "output_type": "execute_result"
    }
   ],
   "source": [
    "matrix"
   ]
  },
  {
   "cell_type": "code",
   "execution_count": 30,
   "metadata": {},
   "outputs": [
    {
     "data": {
      "text/plain": [
       "Mascarpone                     500.0\n",
       "Zucchero                       125.0\n",
       "Acqua                           50.0\n",
       "Tuorli                           1.0\n",
       "Cacao amaro in polvere           1.0\n",
       "                               ...  \n",
       "Fichi                            0.0\n",
       "Fettuccine all'uovo              0.0\n",
       "Fettuccine 5 cereali e uova      0.0\n",
       "Fettuccine                       0.0\n",
       "zenzero candito                  0.0\n",
       "Length: 1641, dtype: float64"
      ]
     },
     "execution_count": 30,
     "metadata": {},
     "output_type": "execute_result"
    }
   ],
   "source": [
    "test = 'Crema al mascarpone'\n",
    "test_vector = pd.Series(matrix[recipe2id[test]], index=vocabulary)\n",
    "text_vector.sort_values(ascending=False)"
   ]
  },
  {
   "cell_type": "markdown",
   "metadata": {},
   "source": [
    "### Similarità fra ricette"
   ]
  },
  {
   "cell_type": "code",
   "execution_count": 31,
   "metadata": {},
   "outputs": [],
   "source": [
    "from sklearn.metrics.pairwise import pairwise_distances"
   ]
  },
  {
   "cell_type": "code",
   "execution_count": 32,
   "metadata": {},
   "outputs": [],
   "source": [
    "sigma = pairwise_distances(matrix, matrix, metric='euclidean')"
   ]
  },
  {
   "cell_type": "code",
   "execution_count": 37,
   "metadata": {},
   "outputs": [
    {
     "data": {
      "text/plain": [
       "array([380802.11929163, 380801.21858524, 380801.14701639, ...,\n",
       "       380801.44768501, 380801.01658215, 380801.8933632 ])"
      ]
     },
     "execution_count": 37,
     "metadata": {},
     "output_type": "execute_result"
    }
   ],
   "source": [
    "test = 'Focaccia col formaggio (di Recco)'\n",
    "test_id = recipe2id[test]\n",
    "sigma[test_id]"
   ]
  },
  {
   "cell_type": "code",
   "execution_count": 38,
   "metadata": {},
   "outputs": [
    {
     "data": {
      "text/plain": [
       "Nome\n",
       "Focaccia col formaggio (di Recco)                                                          0.000000e+00\n",
       "Panini delle feste                                                                         3.800511e+05\n",
       "Stollen                                                                                    3.801013e+05\n",
       "Focaccia con alici, fiori di zucca e burrata                                               3.802009e+05\n",
       "Jerusalem bagel                                                                            3.802011e+05\n",
       "                                                                                               ...     \n",
       "Sigari con caprino e miele al rosmarino                                                    4.522994e+05\n",
       "Maritozzi golosi                                                                           4.976602e+05\n",
       "Gnocchi coi Useleti (Gnocchi con gli involtini di carne)                                   5.898818e+05\n",
       "Cestini di pasta fillo con cremoso di cioccolato bianco e confettura di frutti di bosco    4.840183e+06\n",
       "Chupitos di melone con fagottini di feta                                                   4.849125e+06\n",
       "Length: 5939, dtype: float64"
      ]
     },
     "execution_count": 38,
     "metadata": {},
     "output_type": "execute_result"
    }
   ],
   "source": [
    "most_similar = pd.Series(sigma[test_id], index=data['Nome']).sort_values(ascending=True)\n",
    "most_similar"
   ]
  },
  {
   "cell_type": "markdown",
   "metadata": {},
   "source": [
    "## Manipolazione del testo della ricetta\n",
    "Invece degli ingredienti, utilizziamo il testo tokenizzato"
   ]
  },
  {
   "cell_type": "code",
   "execution_count": 40,
   "metadata": {},
   "outputs": [],
   "source": [
    "from tqdm.notebook import tqdm\n",
    "from transformers import BertTokenizer"
   ]
  },
  {
   "cell_type": "code",
   "execution_count": 41,
   "metadata": {},
   "outputs": [],
   "source": [
    "tokenizer = BertTokenizer.from_pretrained(\"dbmdz/bert-base-italian-uncased\")"
   ]
  },
  {
   "cell_type": "code",
   "execution_count": 45,
   "metadata": {},
   "outputs": [
    {
     "data": {
      "application/vnd.jupyter.widget-view+json": {
       "model_id": "cffc1540a27441f893d89cc2dbcb9032",
       "version_major": 2,
       "version_minor": 0
      },
      "text/plain": [
       "  0%|          | 0/5939 [00:00<?, ?it/s]"
      ]
     },
     "metadata": {},
     "output_type": "display_data"
    }
   ],
   "source": [
    "recipes_text = data['Steps'].values \n",
    "vocabulary = set()\n",
    "recipes_tokens = []\n",
    "for text in tqdm(recipes_text):\n",
    "    try:\n",
    "        tokens = tokenizer.tokenize(text)\n",
    "        vocabulary = vocabulary.union(set(tokens))\n",
    "        recipes_tokens.append(tokens)\n",
    "    except TypeError:\n",
    "        recipes_tokens.append([])"
   ]
  },
  {
   "cell_type": "code",
   "execution_count": 50,
   "metadata": {},
   "outputs": [],
   "source": [
    "vocabulary = sorted(list(vocabulary))\n",
    "word2id = dict(zip(vocabulary, range(len(vocabulary))))\n",
    "id2word = dict(zip(range(len(vocabulary)), vocabulary))\n",
    "X = np.zeros((data.shape[0], len(vocabulary)))\n",
    "for recipe, tokens in enumerate(recipes_tokens):\n",
    "    for token in tokens:\n",
    "        X[recipe, word2id[token]] += 1"
   ]
  },
  {
   "cell_type": "code",
   "execution_count": 52,
   "metadata": {},
   "outputs": [],
   "source": [
    "test = 'Focaccia col formaggio (di Recco)'\n",
    "test_id = recipe2id[test]\n",
    "bow = pd.Series(X[test_id], index=vocabulary)"
   ]
  },
  {
   "cell_type": "code",
   "execution_count": 56,
   "metadata": {},
   "outputs": [
    {
     "data": {
      "text/plain": [
       ",      25.0\n",
       ".      24.0\n",
       "di     21.0\n",
       "e      20.0\n",
       "la     18.0\n",
       "con    15.0\n",
       "a      13.0\n",
       "una    13.0\n",
       "in     12.0\n",
       "per    12.0\n",
       "dtype: float64"
      ]
     },
     "execution_count": 56,
     "metadata": {},
     "output_type": "execute_result"
    }
   ],
   "source": [
    "bow.sort_values(ascending=False).head(10)"
   ]
  },
  {
   "cell_type": "markdown",
   "metadata": {},
   "source": [
    "## Similarità lessicale"
   ]
  },
  {
   "cell_type": "code",
   "execution_count": 57,
   "metadata": {},
   "outputs": [],
   "source": [
    "sigma_words = pairwise_distances(X, X, metric='euclidean')"
   ]
  },
  {
   "cell_type": "code",
   "execution_count": 58,
   "metadata": {},
   "outputs": [
    {
     "data": {
      "text/plain": [
       "Nome\n",
       "Focaccia col formaggio (di Recco)      0.000000\n",
       "Pizza Margherita                      41.521079\n",
       "Cannelloni ricotta e spinaci          41.653331\n",
       "Tagliatelle ai funghi porcini         42.213742\n",
       "Cannoli siciliani                     42.602817\n",
       "                                        ...    \n",
       "Tiramisù goloso                       73.803794\n",
       "Casetta di pan di spezie              79.686887\n",
       "Shish Kebab di tacchino               82.462113\n",
       "Torta libro                           86.596767\n",
       "Torta Barbie                         111.575087\n",
       "Length: 5939, dtype: float64"
      ]
     },
     "execution_count": 58,
     "metadata": {},
     "output_type": "execute_result"
    }
   ],
   "source": [
    "most_similar = pd.Series(sigma_words[test_id], index=data['Nome']).sort_values(ascending=True)\n",
    "most_similar.sort_values()"
   ]
  },
  {
   "cell_type": "code",
   "execution_count": null,
   "metadata": {},
   "outputs": [],
   "source": []
  }
 ],
 "metadata": {
  "kernelspec": {
   "display_name": "nlp",
   "language": "python",
   "name": "python3"
  },
  "language_info": {
   "codemirror_mode": {
    "name": "ipython",
    "version": 3
   },
   "file_extension": ".py",
   "mimetype": "text/x-python",
   "name": "python",
   "nbconvert_exporter": "python",
   "pygments_lexer": "ipython3",
   "version": "3.9.17"
  }
 },
 "nbformat": 4,
 "nbformat_minor": 2
}
