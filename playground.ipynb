{
 "cells": [
  {
   "cell_type": "markdown",
   "id": "2b9974bb",
   "metadata": {},
   "source": [
    "# Playground del corso\n",
    "## Metodologie dell'informatica\n",
    "\n",
    "Qui proveremo diverse funzionalità prima di utilizzarle in un **programma**"
   ]
  },
  {
   "cell_type": "code",
   "execution_count": 1,
   "id": "f1419dfb",
   "metadata": {},
   "outputs": [
    {
     "name": "stdout",
     "output_type": "stream",
     "text": [
      "GINO\n"
     ]
    }
   ],
   "source": [
    "a = \"GINO\"\n",
    "print(a)"
   ]
  },
  {
   "cell_type": "markdown",
   "id": "4d3149c7",
   "metadata": {},
   "source": [
    "### Scelta casuale di un elemento"
   ]
  },
  {
   "cell_type": "code",
   "execution_count": 2,
   "id": "cecec2bf",
   "metadata": {},
   "outputs": [],
   "source": [
    "import numpy as np"
   ]
  },
  {
   "cell_type": "code",
   "execution_count": 28,
   "id": "641b8979",
   "metadata": {},
   "outputs": [
    {
     "name": "stdout",
     "output_type": "stream",
     "text": [
      "[0.301255 0.20014  0.199715 0.098835 0.100075 0.09998  0.       0.\n",
      " 0.       0.      ]\n"
     ]
    }
   ],
   "source": [
    "options = list(\"abcdefghil\")\n",
    "counters = []\n",
    "for x in options:\n",
    "    counters.append(0)\n",
    "for x in range(200000):\n",
    "    n = np.random.choice(options, p=[0.3, 0.2, 0.2, 0.1, 0.1, 0.1, 0, 0, 0, 0])\n",
    "    i = options.index(n)\n",
    "    counters[i] = counters[i] + 1\n",
    "c = np.array(counters)\n",
    "counters = c / c.sum()\n",
    "print(counters)"
   ]
  },
  {
   "cell_type": "code",
   "execution_count": 29,
   "id": "093dd190",
   "metadata": {},
   "outputs": [
    {
     "name": "stdout",
     "output_type": "stream",
     "text": [
      "gino\n"
     ]
    }
   ],
   "source": [
    "a = \"GINO\" \n",
    "print( a.lower() )"
   ]
  },
  {
   "cell_type": "code",
   "execution_count": 30,
   "id": "ad1915e7",
   "metadata": {},
   "outputs": [],
   "source": [
    "class MorraPlayer:\n",
    "    def __init__(self, valid_options):\n",
    "        self.vo = valid_options\n",
    "    def play(self):\n",
    "        return np.random.choice(self.vo)"
   ]
  },
  {
   "cell_type": "code",
   "execution_count": 35,
   "id": "6bc2090d",
   "metadata": {},
   "outputs": [],
   "source": [
    "class Person:\n",
    "    def __init__(self, name):\n",
    "        self.name = name\n",
    "    def get_upper(self):\n",
    "        return self.name.upper()\n",
    "    def get_low(self):\n",
    "        return self.name.lower()\n",
    "    def angry(self):\n",
    "        return \"Non mi rompere!!!\"\n",
    "\n",
    "class Student(Person):\n",
    "    def get_profession(self):\n",
    "        return \"studente\""
   ]
  },
  {
   "cell_type": "code",
   "execution_count": 40,
   "id": "23ccf5f9",
   "metadata": {},
   "outputs": [
    {
     "name": "stdout",
     "output_type": "stream",
     "text": [
      "gino\n",
      "maria\n",
      "studente\n"
     ]
    }
   ],
   "source": [
    "g = Person(name=\"Gino\")\n",
    "m = Student(name=\"Maria\")\n",
    "\n",
    "print(g.get_low())\n",
    "print(m.get_low())\n",
    "print(m.get_profession())"
   ]
  },
  {
   "cell_type": "code",
   "execution_count": 1,
   "id": "c2e273e8",
   "metadata": {},
   "outputs": [],
   "source": [
    "giorni = {\n",
    "    \"lun\": \"zeta\",\n",
    "    \"mar\": \"M204\",\n",
    "    \"mer\": \"M401\"\n",
    "}"
   ]
  },
  {
   "cell_type": "code",
   "execution_count": 2,
   "id": "57000924",
   "metadata": {},
   "outputs": [
    {
     "data": {
      "text/plain": [
       "'M204'"
      ]
     },
     "execution_count": 2,
     "metadata": {},
     "output_type": "execute_result"
    }
   ],
   "source": [
    "giorni[\"mar\"]"
   ]
  },
  {
   "cell_type": "code",
   "execution_count": 3,
   "id": "69d4bccb",
   "metadata": {},
   "outputs": [],
   "source": [
    "giorni[\"gio\"] = None"
   ]
  },
  {
   "cell_type": "code",
   "execution_count": 4,
   "id": "17f01b88",
   "metadata": {},
   "outputs": [
    {
     "data": {
      "text/plain": [
       "{'lun': 'zeta', 'mar': 'M204', 'mer': 'M401', 'gio': None}"
      ]
     },
     "execution_count": 4,
     "metadata": {},
     "output_type": "execute_result"
    }
   ],
   "source": [
    "giorni"
   ]
  },
  {
   "cell_type": "code",
   "execution_count": 6,
   "id": "6437ee49",
   "metadata": {},
   "outputs": [],
   "source": [
    "outcomes = {\n",
    "    \"S\": {\"S\": \"X\", \"C\": \"2\", \"F\": \"1\"},\n",
    "    \"C\": {\"S\": \"1\", \"C\": \"X\", \"F\": \"2\"},\n",
    "    \"F\": {\"S\": \"2\", \"C\": \"1\", \"F\": \"X\"}\n",
    "}"
   ]
  },
  {
   "cell_type": "code",
   "execution_count": 10,
   "id": "293d8581",
   "metadata": {},
   "outputs": [
    {
     "data": {
      "text/plain": [
       "'1'"
      ]
     },
     "execution_count": 10,
     "metadata": {},
     "output_type": "execute_result"
    }
   ],
   "source": [
    "outcomes[\"S\"][\"F\"]"
   ]
  },
  {
   "cell_type": "code",
   "execution_count": null,
   "id": "a830f524",
   "metadata": {},
   "outputs": [],
   "source": []
  }
 ],
 "metadata": {
  "kernelspec": {
   "display_name": "nlp",
   "language": "python",
   "name": "python3"
  },
  "language_info": {
   "codemirror_mode": {
    "name": "ipython",
    "version": 3
   },
   "file_extension": ".py",
   "mimetype": "text/x-python",
   "name": "python",
   "nbconvert_exporter": "python",
   "pygments_lexer": "ipython3",
   "version": "3.10.4"
  }
 },
 "nbformat": 4,
 "nbformat_minor": 5
}
