{
 "cells": [
  {
   "cell_type": "code",
   "execution_count": 1,
   "metadata": {},
   "outputs": [],
   "source": [
    "import nltk\n",
    "from nltk.tokenize import word_tokenize, sent_tokenize\n",
    "from string import ascii_lowercase"
   ]
  },
  {
   "cell_type": "code",
   "execution_count": 2,
   "metadata": {},
   "outputs": [
    {
     "name": "stdout",
     "output_type": "stream",
     "text": [
      "6247\n"
     ]
    }
   ],
   "source": [
    "textfile = '/Users/flint/GitHub/einaudidh/data/fermo-e-lucia.txt'\n",
    "with open(textfile, 'r') as infile:\n",
    "    lines = sent_tokenize(infile.read())\n",
    "print(len(lines))"
   ]
  },
  {
   "cell_type": "code",
   "execution_count": 3,
   "metadata": {},
   "outputs": [],
   "source": [
    "words = []\n",
    "for text in lines:\n",
    "    tokens = word_tokenize(text, language='italian')\n",
    "    for token in tokens:\n",
    "        if len(token) > 3:\n",
    "            non_valid_letters = [c for c in token if c not in ascii_lowercase]\n",
    "            if len(non_valid_letters) == 0:\n",
    "                words.append(token)"
   ]
  },
  {
   "cell_type": "code",
   "execution_count": 4,
   "metadata": {},
   "outputs": [
    {
     "data": {
      "text/plain": [
       "['ramo',\n",
       " 'lago',\n",
       " 'esce',\n",
       " 'giace',\n",
       " 'catene',\n",
       " 'interrotte',\n",
       " 'monti',\n",
       " 'settentrione',\n",
       " 'mezzogiorno',\n",
       " 'dopo']"
      ]
     },
     "execution_count": 4,
     "metadata": {},
     "output_type": "execute_result"
    }
   ],
   "source": [
    "words[:10]"
   ]
  },
  {
   "cell_type": "code",
   "execution_count": 5,
   "metadata": {},
   "outputs": [],
   "source": [
    "import json"
   ]
  },
  {
   "cell_type": "code",
   "execution_count": 6,
   "metadata": {},
   "outputs": [],
   "source": [
    "with open('../data/parole_manzoni.json', 'w') as out:\n",
    "    json.dump({'words': words}, out)"
   ]
  },
  {
   "cell_type": "code",
   "execution_count": null,
   "metadata": {},
   "outputs": [],
   "source": []
  }
 ],
 "metadata": {
  "kernelspec": {
   "display_name": "nlp",
   "language": "python",
   "name": "python3"
  },
  "language_info": {
   "codemirror_mode": {
    "name": "ipython",
    "version": 3
   },
   "file_extension": ".py",
   "mimetype": "text/x-python",
   "name": "python",
   "nbconvert_exporter": "python",
   "pygments_lexer": "ipython3",
   "version": "3.9.17"
  }
 },
 "nbformat": 4,
 "nbformat_minor": 2
}
