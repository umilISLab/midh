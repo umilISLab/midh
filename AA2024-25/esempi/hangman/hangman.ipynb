{
 "cells": [
  {
   "cell_type": "code",
   "execution_count": 1,
   "metadata": {},
   "outputs": [],
   "source": [
    "from hangman import HumanHangmann\n",
    "import json "
   ]
  },
  {
   "cell_type": "code",
   "execution_count": 4,
   "metadata": {},
   "outputs": [],
   "source": [
    "fj = '../../data/parole_manzoni.json'\n",
    "\n",
    "with open(fj, 'r') as infile:\n",
    "    jfile = json.load(infile)\n",
    "list_of_words = list(set(jfile['words']))"
   ]
  },
  {
   "cell_type": "code",
   "execution_count": 5,
   "metadata": {},
   "outputs": [],
   "source": [
    "h = HumanHangmann(player_name='gino', words=list_of_words)"
   ]
  },
  {
   "cell_type": "code",
   "execution_count": 4,
   "metadata": {},
   "outputs": [
    {
     "name": "stdout",
     "output_type": "stream",
     "text": [
      "........ punteggio: 10\n",
      ".o...... punteggio: 9\n",
      ".o..a... punteggio: 8\n",
      ".o..a... punteggio: 7\n",
      ".o..a... punteggio: 6\n",
      ".or.ar.. punteggio: 5\n",
      ".or.ar.e punteggio: 4\n",
      ".ortar.e punteggio: 3\n",
      ".ortarle punteggio: 2\n",
      ".ortarle punteggio: 12\n",
      ".ortarle punteggio: 12\n",
      ".ortarle punteggio: 12\n",
      ".ortarle punteggio: 12\n",
      ".ortarle punteggio: 12\n",
      ".ortarle punteggio: 12\n",
      ".ortarle punteggio: 12\n",
      ".ortarle punteggio: 12\n",
      ".ortarle punteggio: 12\n",
      ".ortarle punteggio: 12\n",
      ".ortarle punteggio: 12\n",
      ".ortarle punteggio: 12\n"
     ]
    }
   ],
   "source": [
    "h.play()"
   ]
  },
  {
   "cell_type": "code",
   "execution_count": null,
   "metadata": {},
   "outputs": [],
   "source": []
  }
 ],
 "metadata": {
  "kernelspec": {
   "display_name": "nlp",
   "language": "python",
   "name": "python3"
  },
  "language_info": {
   "codemirror_mode": {
    "name": "ipython",
    "version": 3
   },
   "file_extension": ".py",
   "mimetype": "text/x-python",
   "name": "python",
   "nbconvert_exporter": "python",
   "pygments_lexer": "ipython3",
   "version": "3.9.17"
  }
 },
 "nbformat": 4,
 "nbformat_minor": 2
}
