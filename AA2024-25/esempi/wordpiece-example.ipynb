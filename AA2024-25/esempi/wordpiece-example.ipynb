{
 "cells": [
  {
   "cell_type": "code",
   "execution_count": 27,
   "metadata": {},
   "outputs": [],
   "source": [
    "import wordpiece as wp\n",
    "import pandas as pd\n",
    "import nltk\n",
    "from string import punctuation, ascii_lowercase\n",
    "from collections import defaultdict"
   ]
  },
  {
   "cell_type": "code",
   "execution_count": 28,
   "metadata": {},
   "outputs": [
    {
     "name": "stdout",
     "output_type": "stream",
     "text": [
      "147\n"
     ]
    }
   ],
   "source": [
    "text = \"\"\"\n",
    "prepara la pasta frolla mescolando 300g di farina 150g di burro 100g di zucchero 1 uovo e un pizzico di sale \n",
    "impasta fino a ottenere un composto omogeneo avvolgi in pellicola e lascia riposare in frigo per 30 minuti  \n",
    "stendi la pasta frolla su una superficie infarinata e rivesti uno stampo da crostata imburrato  \n",
    "bucherella il fondo con una forchetta e cuoci in forno preriscaldato a 180°c per 20 minuti  \n",
    "prepara la crema pasticcera mescolando 500ml di latte 4 tuorli 100g di zucchero 40g di farina e una scorza di limone  \n",
    "cuoci a fuoco lento fino a ottenere una crema densa poi lasciala raffreddare  versa la crema pasticcera \n",
    "sulla base della crostata raffreddata  decora con frutta fresca a piacere fragole kiwi mirtilli ecc  \n",
    "scalda un cucchiaio di gelatina di albicocche e spennella la frutta per lucidarla  \n",
    "lascia raffreddare in frigo per almeno 1 ora prima di servire\n",
    "\"\"\"\n",
    "print(len(text.split()))"
   ]
  },
  {
   "cell_type": "code",
   "execution_count": 37,
   "metadata": {},
   "outputs": [],
   "source": [
    "example = \"tutto fatto\"\n",
    "\n",
    "wt = wp.WordPieceTokenizer(text=text, maximum_size=200)"
   ]
  },
  {
   "cell_type": "code",
   "execution_count": 38,
   "metadata": {},
   "outputs": [
    {
     "name": "stdout",
     "output_type": "stream",
     "text": [
      "#r  #e    18\n",
      "#e  #r    16\n",
      "#t  #a    13\n",
      "#l  #a    12\n",
      "d   #i    11\n",
      "dtype: int64\n"
     ]
    }
   ],
   "source": [
    "example = wt.score_pairs(normalize=False)\n",
    "print(example.head()) "
   ]
  },
  {
   "cell_type": "code",
   "execution_count": 39,
   "metadata": {},
   "outputs": [
    {
     "name": "stderr",
     "output_type": "stream",
     "text": [
      " 75%|███████▌  | 150/200 [00:00<00:00, 558.99it/s]\n"
     ]
    }
   ],
   "source": [
    "wt.train(normalize=False)"
   ]
  },
  {
   "cell_type": "code",
   "execution_count": 40,
   "metadata": {},
   "outputs": [
    {
     "name": "stdout",
     "output_type": "stream",
     "text": [
      "prepara | la | pasta | frolla | mescolando | 300g | di | farina | 150g | di | burro | 100g | di | zucchero | 1 | uovo | e | un | pizzico | di | sale | impasta | fino | a | ottenere | un | composto | omogeneo | avvolgi | in | pellicola | e | lascia | riposare | in | frigo | per | 3 | #0 | minuti | s | #ten | #d | #i | la | pasta | frolla | su | una | su | #p | #er | #f | #i | #ci | #e | in | #f | #arina | #ta | e | ri | #v | #es | #ti | un | #o | s | #ta | #mp | #o | d | #a | crostata | i | #m | #b | #u | #r | #ra | #to | bu | #ch | #ere | #lla | i | #l | f | #on | #do | con | una | for | #ch | #e | #tta | e | cuoci | in | for | #n | #o | pre | #ri | #sc | #alda | #to | a | 1 | #8 | #0 | #° | #c | per | 2 | #0 | minuti | prepara | la | crema | pasticcera | mescolando | 5 | #0 | #0 | #m | #l | di | la | #t | #t | #e | 4 | t | #uo | #r | #li | 100g | di | zucchero | 4 | #0g | di | farina | e | una | s | #co | #r | #z | #a | di | l | #i | #m | #on | #e | cuoci | a | f | #uo | #co | l | #en | #to | fino | a | ottenere | una | crema | d | #en | #sa | p | #o | #i | lascia | #la | raffreddare | v | #er | #sa | la | crema | pasticcera | su | #lla | b | #as | #e | de | #lla | crostata | raffredda | #ta | de | #co | #ra | con | frutta | f | #re | #sc | #a | a | p | #ia | #c | #ere | fr | #a | #go | #l | #e | k | #i | #w | #i | m | #i | #r | #ti | #lli | e | #cc | s | #c | #alda | un | c | #ucch | #ia | #i | #o | di | g | #e | #la | #t | #ina | di | al | #b | #ico | #cch | #e | e | s | #p | #en | #n | #e | #lla | la | frutta | per | l | #u | #ci | #d | #ar | #la | lascia | raffreddare | in | frigo | per | al | #m | #en | #o | 1 | o | #ra | p | #ri | #ma | di | s | #er | #v | #i | #re\n"
     ]
    }
   ],
   "source": [
    "tokenized = []\n",
    "for tokens in wt.corpus:\n",
    "    tokenized.extend(list(tokens))\n",
    "print(\" | \".join(tokenized))"
   ]
  },
  {
   "cell_type": "code",
   "execution_count": 41,
   "metadata": {},
   "outputs": [
    {
     "data": {
      "text/plain": [
       "#a          88\n",
       "#e          58\n",
       "#r          57\n",
       "#i          56\n",
       "#o          51\n",
       "            ..\n",
       "pi           1\n",
       "piz          1\n",
       "pizz         1\n",
       "pizzico      1\n",
       "riposare     1\n",
       "Length: 199, dtype: int64"
      ]
     },
     "execution_count": 41,
     "metadata": {},
     "output_type": "execute_result"
    }
   ],
   "source": [
    "V = wt.fancy_vocabulary\n",
    "V.sort_values(ascending=False)"
   ]
  },
  {
   "cell_type": "code",
   "execution_count": 43,
   "metadata": {},
   "outputs": [
    {
     "name": "stdout",
     "output_type": "stream",
     "text": [
      "['per', 'prepara', '#re', 't', '#utta', 'la', 'pasta', 'frolla', 'mescola', '150g', 'di', 'farina']\n"
     ]
    }
   ],
   "source": [
    "test = \"per preparare tutta la pasta frolla mescola 150g di farina\"\n",
    "print(wt.tokenize_text(test))"
   ]
  },
  {
   "cell_type": "code",
   "execution_count": 44,
   "metadata": {},
   "outputs": [
    {
     "name": "stdout",
     "output_type": "stream",
     "text": [
      "['per', 'e', '#cc', '#e', '#l', '#l', '#ere', '[UNK]', 's', '#p', '#or', '#t', 's', '#er', '#v', '#e', 'm', '#o', '#l', '#to', 'al', '#l', '#en', '#a', '#m', '#en', '#to']\n"
     ]
    }
   ],
   "source": [
    "test = \"per eccellere nello sport serve molto allenamento\"\n",
    "print(wt.tokenize_text(test))"
   ]
  },
  {
   "cell_type": "markdown",
   "metadata": {},
   "source": [
    "## Process explained"
   ]
  },
  {
   "cell_type": "code",
   "execution_count": 45,
   "metadata": {},
   "outputs": [
    {
     "name": "stdout",
     "output_type": "stream",
     "text": [
      "Iterazione 0: o #t #t #e #n #e #re u #n\n",
      "Iterazione 3: o #t #t #e #n #er #e u #n\n",
      "Iterazione 6: o #t #t #en #er #e u #n\n",
      "Iterazione 8: o #t #t #en #er #e un\n",
      "Iterazione 20: o #t #t #en #ere un\n",
      "Iterazione 39: o #t #ten #ere un\n",
      "Iterazione 89: o #t #tenere un\n",
      "Iterazione 91: o #ttenere un\n",
      "Iterazione 107: ottenere un\n"
     ]
    }
   ],
   "source": [
    "text = \"\"\"\n",
    "prepara la pasta frolla mescolando 300g di farina 150g di burro 100g di zucchero 1 uovo e un pizzico di sale \n",
    "impasta fino a ottenere un composto omogeneo avvolgi in pellicola e lascia riposare in frigo per 30 minuti  \n",
    "stendi la pasta frolla su una superficie infarinata e rivesti uno stampo da crostata imburrato  \n",
    "bucherella il fondo con una forchetta e cuoci in forno preriscaldato a 180°c per 20 minuti  \n",
    "prepara la crema pasticcera mescolando 500ml di latte 4 tuorli 100g di zucchero 40g di farina e una scorza di limone  \n",
    "cuoci a fuoco lento fino a ottenere una crema densa poi lasciala raffreddare  versa la crema pasticcera \n",
    "sulla base della crostata raffreddata  decora con frutta fresca a piacere fragole kiwi mirtilli ecc  \n",
    "scalda un cucchiaio di gelatina di albicocche e spennella la frutta per lucidarla  \n",
    "lascia raffreddare in frigo per almeno 1 ora prima di servire\n",
    "\"\"\"\n",
    "example = \"ottenere un\"\n",
    "current = \"\"\n",
    "normalize = False \n",
    "wt = wp.WordPieceTokenizer(text=text, maximum_size=500)\n",
    "iterations = list(range(wt.max_vocabulary_size))\n",
    "for i in iterations:\n",
    "    check = wt.update(normalize=normalize)\n",
    "    tokens = wt.tokenize_text(example)\n",
    "    if tokens != current:\n",
    "        print(\"Iterazione {}: {}\".format(i, \" \".join(tokens)))\n",
    "        current = tokens\n",
    "    if not check:\n",
    "        break "
   ]
  },
  {
   "cell_type": "code",
   "execution_count": 29,
   "metadata": {},
   "outputs": [
    {
     "data": {
      "text/plain": [
       "335"
      ]
     },
     "execution_count": 29,
     "metadata": {},
     "output_type": "execute_result"
    }
   ],
   "source": [
    "len(wt.vocabulary)"
   ]
  },
  {
   "cell_type": "code",
   "execution_count": 30,
   "metadata": {},
   "outputs": [
    {
     "name": "stdout",
     "output_type": "stream",
     "text": [
      "o 4\n",
      "ottenere 2\n",
      "om 1\n",
      "omo 1\n",
      "omog 1\n",
      "omogen 1\n",
      "omogene 1\n",
      "omogeneo 1\n",
      "ora 1\n"
     ]
    }
   ],
   "source": [
    "for w, s in wt.fancy_vocabulary.items():\n",
    "    if w.startswith('o'):\n",
    "        print(w, s)"
   ]
  },
  {
   "cell_type": "code",
   "execution_count": null,
   "metadata": {},
   "outputs": [],
   "source": []
  },
  {
   "cell_type": "code",
   "execution_count": 46,
   "metadata": {},
   "outputs": [],
   "source": [
    "from transformers import BertTokenizer"
   ]
  },
  {
   "cell_type": "code",
   "execution_count": 48,
   "metadata": {},
   "outputs": [],
   "source": [
    "tokenizer = BertTokenizer.from_pretrained(\"dbmdz/bert-base-italian-uncased\")"
   ]
  },
  {
   "cell_type": "markdown",
   "metadata": {},
   "source": [
    "## BERT Tokenizer"
   ]
  },
  {
   "cell_type": "code",
   "execution_count": 49,
   "metadata": {},
   "outputs": [
    {
     "name": "stdout",
     "output_type": "stream",
     "text": [
      "Testo originale: mescolando mescolare mescolavi mescolai mescoli\n",
      "Token: ['mesco', '##lando', 'mescolare', 'mesco', '##lav', '##i', 'mesco', '##lai', 'mesco', '##li']\n",
      "Token IDs: [10689, 2344, 29182, 10689, 19075, 30934, 10689, 16362, 10689, 125]\n"
     ]
    }
   ],
   "source": [
    "example = \"mescolando mescolare mescolavi mescolai mescoli\"\n",
    "\n",
    "tokens = tokenizer.tokenize(example)\n",
    "token_ids = tokenizer.convert_tokens_to_ids(tokens)\n",
    "\n",
    "print(\"Testo originale:\", example)\n",
    "print(\"Token:\", tokens)\n",
    "print(\"Token IDs:\", token_ids)"
   ]
  },
  {
   "cell_type": "code",
   "execution_count": null,
   "metadata": {},
   "outputs": [],
   "source": []
  },
  {
   "cell_type": "code",
   "execution_count": null,
   "metadata": {},
   "outputs": [],
   "source": []
  }
 ],
 "metadata": {
  "kernelspec": {
   "display_name": "nlp",
   "language": "python",
   "name": "python3"
  },
  "language_info": {
   "codemirror_mode": {
    "name": "ipython",
    "version": 3
   },
   "file_extension": ".py",
   "mimetype": "text/x-python",
   "name": "python",
   "nbconvert_exporter": "python",
   "pygments_lexer": "ipython3",
   "version": "3.9.17"
  }
 },
 "nbformat": 4,
 "nbformat_minor": 2
}
