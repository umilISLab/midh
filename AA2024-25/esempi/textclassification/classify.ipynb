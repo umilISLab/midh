{
 "cells": [
  {
   "cell_type": "markdown",
   "metadata": {},
   "source": [
    "## Classificazione del testo"
   ]
  },
  {
   "cell_type": "markdown",
   "metadata": {},
   "source": [
    "### Creazione di un dataset di esempio\n",
    "Supponiamo di avere una descrizione testuale di diverse settimane in estate, inverno, primavera e autunno. Per ogni giorno della settimana, viene riportata la condizione atmosferica prevalente fra\n",
    "\n",
    "pioggia, neve, sole, nebbia, ghiaccio, nuvoloso"
   ]
  },
  {
   "cell_type": "code",
   "execution_count": 1,
   "metadata": {},
   "outputs": [],
   "source": [
    "import pandas as pd \n",
    "import numpy as np \n",
    "import ast \n",
    "import matplotlib.pyplot as plt\n",
    "from scipy.special import softmax\n",
    "import torch"
   ]
  },
  {
   "cell_type": "code",
   "execution_count": 2,
   "metadata": {},
   "outputs": [
    {
     "data": {
      "text/html": [
       "<div>\n",
       "<style scoped>\n",
       "    .dataframe tbody tr th:only-of-type {\n",
       "        vertical-align: middle;\n",
       "    }\n",
       "\n",
       "    .dataframe tbody tr th {\n",
       "        vertical-align: top;\n",
       "    }\n",
       "\n",
       "    .dataframe thead th {\n",
       "        text-align: right;\n",
       "    }\n",
       "</style>\n",
       "<table border=\"1\" class=\"dataframe\">\n",
       "  <thead>\n",
       "    <tr style=\"text-align: right;\">\n",
       "      <th></th>\n",
       "      <th>0</th>\n",
       "      <th>1</th>\n",
       "      <th>2</th>\n",
       "      <th>3</th>\n",
       "      <th>4</th>\n",
       "      <th>5</th>\n",
       "      <th>6</th>\n",
       "      <th>target</th>\n",
       "    </tr>\n",
       "  </thead>\n",
       "  <tbody>\n",
       "    <tr>\n",
       "      <th>0</th>\n",
       "      <td>nebbia</td>\n",
       "      <td>sole</td>\n",
       "      <td>nuvoloso</td>\n",
       "      <td>nuvoloso</td>\n",
       "      <td>nuvoloso</td>\n",
       "      <td>nuvoloso</td>\n",
       "      <td>pioggia</td>\n",
       "      <td>autunno</td>\n",
       "    </tr>\n",
       "    <tr>\n",
       "      <th>1</th>\n",
       "      <td>pioggia</td>\n",
       "      <td>pioggia</td>\n",
       "      <td>sole</td>\n",
       "      <td>nuvoloso</td>\n",
       "      <td>pioggia</td>\n",
       "      <td>nuvoloso</td>\n",
       "      <td>nuvoloso</td>\n",
       "      <td>primavera</td>\n",
       "    </tr>\n",
       "    <tr>\n",
       "      <th>2</th>\n",
       "      <td>nebbia</td>\n",
       "      <td>nebbia</td>\n",
       "      <td>pioggia</td>\n",
       "      <td>sole</td>\n",
       "      <td>nuvoloso</td>\n",
       "      <td>nebbia</td>\n",
       "      <td>nuvoloso</td>\n",
       "      <td>autunno</td>\n",
       "    </tr>\n",
       "    <tr>\n",
       "      <th>3</th>\n",
       "      <td>sole</td>\n",
       "      <td>nuvoloso</td>\n",
       "      <td>sole</td>\n",
       "      <td>pioggia</td>\n",
       "      <td>pioggia</td>\n",
       "      <td>pioggia</td>\n",
       "      <td>pioggia</td>\n",
       "      <td>primavera</td>\n",
       "    </tr>\n",
       "    <tr>\n",
       "      <th>4</th>\n",
       "      <td>nuvoloso</td>\n",
       "      <td>pioggia</td>\n",
       "      <td>pioggia</td>\n",
       "      <td>sole</td>\n",
       "      <td>sole</td>\n",
       "      <td>sole</td>\n",
       "      <td>sole</td>\n",
       "      <td>estate</td>\n",
       "    </tr>\n",
       "  </tbody>\n",
       "</table>\n",
       "</div>"
      ],
      "text/plain": [
       "          0         1         2         3         4         5         6  \\\n",
       "0    nebbia      sole  nuvoloso  nuvoloso  nuvoloso  nuvoloso   pioggia   \n",
       "1   pioggia   pioggia      sole  nuvoloso   pioggia  nuvoloso  nuvoloso   \n",
       "2    nebbia    nebbia   pioggia      sole  nuvoloso    nebbia  nuvoloso   \n",
       "3      sole  nuvoloso      sole   pioggia   pioggia   pioggia   pioggia   \n",
       "4  nuvoloso   pioggia   pioggia      sole      sole      sole      sole   \n",
       "\n",
       "      target  \n",
       "0    autunno  \n",
       "1  primavera  \n",
       "2    autunno  \n",
       "3  primavera  \n",
       "4     estate  "
      ]
     },
     "execution_count": 2,
     "metadata": {},
     "output_type": "execute_result"
    }
   ],
   "source": [
    "weather = ['pioggia', 'neve', 'sole', 'nebbia', 'ghiaccio', 'nuvoloso']\n",
    "seasons = {\n",
    "    'estate': softmax([2, 1, 4, 1, 1, 2]),\n",
    "    'inverno': softmax([4, 4, 1, 2, 5, 3]),\n",
    "    'primavera': softmax([4, 1, 3, 1, 1, 3]),\n",
    "    'autunno': softmax([3, 1, 2, 3, 1, 4]),\n",
    "}\n",
    "labels = list(sorted(seasons.keys()))\n",
    "y = np.random.choice(labels, size=1000)\n",
    "X = np.array([np.random.choice(weather, size=7, p=seasons[s]) for s in y])\n",
    "data = pd.DataFrame(X)\n",
    "data['target'] = y \n",
    "\n",
    "data.head()"
   ]
  },
  {
   "cell_type": "markdown",
   "metadata": {},
   "source": [
    "## Prodotto fra vettori e fra vettori e matrici"
   ]
  },
  {
   "cell_type": "code",
   "execution_count": 3,
   "metadata": {},
   "outputs": [
    {
     "name": "stdout",
     "output_type": "stream",
     "text": [
      "65\n",
      "65\n"
     ]
    }
   ],
   "source": [
    "a = np.array([2, 4, 3, 6])\n",
    "b = np.array([2, 4, 3, 6])\n",
    "\n",
    "prod = 0\n",
    "for i, x in enumerate(a):\n",
    "    prod = prod + x * b[i]\n",
    "print(prod)\n",
    "print(a.dot(b))"
   ]
  },
  {
   "cell_type": "code",
   "execution_count": 4,
   "metadata": {},
   "outputs": [
    {
     "name": "stdout",
     "output_type": "stream",
     "text": [
      "[4 6]\n",
      "4 6\n"
     ]
    }
   ],
   "source": [
    "a = np.array([1, 2, 3])\n",
    "b = np.array([\n",
    "    [2, 4],\n",
    "    [1, 1],\n",
    "    [0, 0]\n",
    "])\n",
    "print(a.dot(b))\n",
    "print(a.dot(b[:,0]), a.dot(b[:,1]))"
   ]
  },
  {
   "cell_type": "markdown",
   "metadata": {},
   "source": [
    "## Preparazione dei dati"
   ]
  },
  {
   "cell_type": "code",
   "execution_count": 5,
   "metadata": {},
   "outputs": [],
   "source": [
    "category_lines = dict([(season, []) for season in labels])\n",
    "for i, row in data.iterrows():\n",
    "    category_lines[row.target].append(list(row[:-1].values))"
   ]
  },
  {
   "cell_type": "code",
   "execution_count": 6,
   "metadata": {},
   "outputs": [
    {
     "data": {
      "text/plain": [
       "[['nuvoloso', 'pioggia', 'pioggia', 'sole', 'sole', 'sole', 'sole'],\n",
       " ['neve', 'sole', 'pioggia', 'sole', 'nuvoloso', 'pioggia', 'pioggia']]"
      ]
     },
     "execution_count": 6,
     "metadata": {},
     "output_type": "execute_result"
    }
   ],
   "source": [
    "category_lines['estate'][:2]"
   ]
  },
  {
   "cell_type": "code",
   "execution_count": 7,
   "metadata": {},
   "outputs": [],
   "source": [
    "def week2bow(week: list):\n",
    "    tensor = torch.zeros(1, len(weather))\n",
    "    for li, day in enumerate(week):\n",
    "        tensor[0][weather.index(day)] += 1\n",
    "    return tensor\n",
    "\n",
    "def label2vec(label: str):\n",
    "    tensor = torch.zeros(1, len(labels))\n",
    "    tensor[0, labels.index(label)] = 1\n",
    "    return tensor\n",
    "\n",
    "def random_training_sample(embedding_function: callable):\n",
    "    category = np.random.choice(labels)\n",
    "    line_id = np.random.randint(0, len(category_lines[category]))\n",
    "    line = category_lines[category][line_id]\n",
    "    category_tensor = label2vec(category)\n",
    "    line_tensor = embedding_function(line)\n",
    "    return category, line, category_tensor, line_tensor"
   ]
  },
  {
   "cell_type": "code",
   "execution_count": 8,
   "metadata": {},
   "outputs": [],
   "source": [
    "category, line, category_tensor, line_tensor = random_training_sample(week2bow)"
   ]
  },
  {
   "cell_type": "code",
   "execution_count": 12,
   "metadata": {},
   "outputs": [
    {
     "data": {
      "text/plain": [
       "(tensor([[0., 0., 0., 1.]]), tensor([[3., 0., 0., 0., 1., 3.]]))"
      ]
     },
     "execution_count": 12,
     "metadata": {},
     "output_type": "execute_result"
    }
   ],
   "source": [
    "category_tensor, line_tensor"
   ]
  },
  {
   "cell_type": "code",
   "execution_count": 17,
   "metadata": {},
   "outputs": [],
   "source": [
    "T, X = category_tensor.detach().numpy()[0], line_tensor.detach().numpy()[0]"
   ]
  },
  {
   "cell_type": "code",
   "execution_count": 22,
   "metadata": {},
   "outputs": [],
   "source": [
    "from scipy.special import softmax"
   ]
  },
  {
   "cell_type": "code",
   "execution_count": 31,
   "metadata": {},
   "outputs": [
    {
     "name": "stdout",
     "output_type": "stream",
     "text": [
      "['autunno', 'estate', 'inverno', 'primavera']\n",
      "['pioggia', 'neve', 'sole', 'nebbia', 'ghiaccio', 'nuvoloso']\n",
      "[[0.2515256  0.96153919 0.56339133 0.73537076]\n",
      " [0.47644523 0.95255672 0.77998239 0.8805763 ]\n",
      " [0.30745143 0.21074741 0.26423055 0.74742653]\n",
      " [0.7707686  0.90303389 0.54339184 0.43155002]\n",
      " [0.31038454 0.89846385 0.54787698 0.14894823]\n",
      " [0.86824041 0.97230176 0.2194799  0.12620525]\n",
      " [0.32587538 0.72394122 0.78562496 0.87464033]]\n",
      "[0.00544993 0.78501105 0.0483595  0.16117951]\n"
     ]
    }
   ],
   "source": [
    "print(labels)\n",
    "print(weather)\n",
    "X = np.array([7, 0, 0, 0, 0, 0, 0 ])\n",
    "P = np.random.random(size=(len(X), len(T)))\n",
    "print(P)\n",
    "print(softmax(X.dot(P)))\n"
   ]
  },
  {
   "cell_type": "markdown",
   "metadata": {},
   "source": [
    "## Classificatore"
   ]
  },
  {
   "cell_type": "code",
   "execution_count": 33,
   "metadata": {},
   "outputs": [],
   "source": [
    "import net"
   ]
  },
  {
   "cell_type": "code",
   "execution_count": 34,
   "metadata": {},
   "outputs": [],
   "source": [
    "classifier = net.SimplePredictor(input_dim=len(weather), output_dim=len(labels))"
   ]
  },
  {
   "cell_type": "code",
   "execution_count": 35,
   "metadata": {},
   "outputs": [
    {
     "data": {
      "text/plain": [
       "(tensor([[0.7499, 0.0186, 0.1778, 0.0537]], grad_fn=<SoftmaxBackward0>),\n",
       " tensor([[0., 1., 0., 0.]]))"
      ]
     },
     "execution_count": 35,
     "metadata": {},
     "output_type": "execute_result"
    }
   ],
   "source": [
    "example_label, example_week, label_vec, line_vec = random_training_sample(week2bow)\n",
    "classifier(line_vec), label_vec"
   ]
  },
  {
   "cell_type": "markdown",
   "metadata": {},
   "source": [
    "## Training"
   ]
  },
  {
   "cell_type": "code",
   "execution_count": 36,
   "metadata": {},
   "outputs": [
    {
     "name": "stderr",
     "output_type": "stream",
     "text": [
      "100%|██████████| 10000/10000 [00:06<00:00, 1657.03it/s]\n"
     ]
    }
   ],
   "source": [
    "history = classifier.run_training(random_training_sample, week2bow, \n",
    "                        n_iterations = 10000, plot_every = 100)"
   ]
  },
  {
   "cell_type": "code",
   "execution_count": 37,
   "metadata": {},
   "outputs": [
    {
     "data": {
      "image/png": "[encoded data removed]",
      "text/plain": [
       "<Figure size 800x200 with 1 Axes>"
      ]
     },
     "metadata": {},
     "output_type": "display_data"
    }
   ],
   "source": [
    "fig, ax = plt.subplots(figsize=(8, 2))\n",
    "ax.plot(history)\n",
    "plt.tight_layout()\n",
    "plt.show()"
   ]
  },
  {
   "cell_type": "markdown",
   "metadata": {},
   "source": [
    "## Valutazione"
   ]
  },
  {
   "cell_type": "code",
   "execution_count": 38,
   "metadata": {},
   "outputs": [],
   "source": [
    "from sklearn.metrics import classification_report, confusion_matrix, ConfusionMatrixDisplay"
   ]
  },
  {
   "cell_type": "code",
   "execution_count": 39,
   "metadata": {},
   "outputs": [],
   "source": [
    "def interpretation(out):\n",
    "    return labels[int(np.argmax(out[0]))]"
   ]
  },
  {
   "cell_type": "code",
   "execution_count": 40,
   "metadata": {},
   "outputs": [],
   "source": [
    "test_size = 1000\n",
    "y_true, y_pred = [], []\n",
    "for i in range(test_size):\n",
    "    example_label, example_week, label_vec, line_vec = random_training_sample(week2bow)\n",
    "    with torch.no_grad():\n",
    "        out = classifier(line_vec)\n",
    "    y_true.append(example_label)\n",
    "    y_pred.append(interpretation(out))"
   ]
  },
  {
   "cell_type": "code",
   "execution_count": 41,
   "metadata": {},
   "outputs": [
    {
     "name": "stdout",
     "output_type": "stream",
     "text": [
      "              precision    recall  f1-score   support\n",
      "\n",
      "     autunno       0.94      0.95      0.95       273\n",
      "      estate       0.92      0.98      0.95       241\n",
      "     inverno       0.99      0.98      0.99       238\n",
      "   primavera       0.91      0.86      0.89       248\n",
      "\n",
      "    accuracy                           0.94      1000\n",
      "   macro avg       0.94      0.94      0.94      1000\n",
      "weighted avg       0.94      0.94      0.94      1000\n",
      "\n"
     ]
    }
   ],
   "source": [
    "print(classification_report(y_true, y_pred))"
   ]
  },
  {
   "cell_type": "code",
   "execution_count": 42,
   "metadata": {},
   "outputs": [
    {
     "data": {
      "image/png": "[encoded data removed]",
      "text/plain": [
       "<Figure size 600x600 with 2 Axes>"
      ]
     },
     "metadata": {},
     "output_type": "display_data"
    }
   ],
   "source": [
    "fig, ax = plt.subplots(figsize=(6, 6))\n",
    "disp = ConfusionMatrixDisplay.from_predictions(\n",
    "    y_true, y_pred, labels=labels, ax=ax, cmap='Greens'\n",
    ")\n",
    "plt.tight_layout()\n",
    "plt.show()"
   ]
  },
  {
   "cell_type": "code",
   "execution_count": null,
   "metadata": {},
   "outputs": [],
   "source": []
  }
 ],
 "metadata": {
  "kernelspec": {
   "display_name": "nlp",
   "language": "python",
   "name": "python3"
  },
  "language_info": {
   "codemirror_mode": {
    "name": "ipython",
    "version": 3
   },
   "file_extension": ".py",
   "mimetype": "text/x-python",
   "name": "python",
   "nbconvert_exporter": "python",
   "pygments_lexer": "ipython3",
   "version": "3.9.17"
  }
 },
 "nbformat": 4,
 "nbformat_minor": 2
}
